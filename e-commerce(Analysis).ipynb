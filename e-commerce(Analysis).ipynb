{
 "cells": [
  {
   "cell_type": "code",
   "execution_count": 3,
   "id": "351e79c3",
   "metadata": {},
   "outputs": [],
   "source": [
    "import pandas as pd \n",
    "import numpy as np\n",
    "import matplotlib.pyplot as plt\n",
    "import seaborn as sns"
   ]
  },
  {
   "cell_type": "code",
   "execution_count": 4,
   "id": "487b0aba",
   "metadata": {},
   "outputs": [],
   "source": [
    "df = pd.read_csv(r\"C:\\Users\\Saloni Verma\\Desktop\\Ecommerce Customers.unknown\")\n"
   ]
  },
  {
   "cell_type": "code",
   "execution_count": 5,
   "id": "156d277f",
   "metadata": {},
   "outputs": [
    {
     "data": {
      "text/html": [
       "<div>\n",
       "<style scoped>\n",
       "    .dataframe tbody tr th:only-of-type {\n",
       "        vertical-align: middle;\n",
       "    }\n",
       "\n",
       "    .dataframe tbody tr th {\n",
       "        vertical-align: top;\n",
       "    }\n",
       "\n",
       "    .dataframe thead th {\n",
       "        text-align: right;\n",
       "    }\n",
       "</style>\n",
       "<table border=\"1\" class=\"dataframe\">\n",
       "  <thead>\n",
       "    <tr style=\"text-align: right;\">\n",
       "      <th></th>\n",
       "      <th>Email</th>\n",
       "      <th>Address</th>\n",
       "      <th>Avatar</th>\n",
       "      <th>Avg. Session Length</th>\n",
       "      <th>Time on App</th>\n",
       "      <th>Time on Website</th>\n",
       "      <th>Length of Membership</th>\n",
       "      <th>Yearly Amount Spent</th>\n",
       "    </tr>\n",
       "  </thead>\n",
       "  <tbody>\n",
       "    <tr>\n",
       "      <th>0</th>\n",
       "      <td>mstephenson@fernandez.com</td>\n",
       "      <td>835 Frank Tunnel\\nWrightmouth, MI 82180-9605</td>\n",
       "      <td>Violet</td>\n",
       "      <td>34.497268</td>\n",
       "      <td>12.655651</td>\n",
       "      <td>39.577668</td>\n",
       "      <td>4.082621</td>\n",
       "      <td>587.951054</td>\n",
       "    </tr>\n",
       "    <tr>\n",
       "      <th>1</th>\n",
       "      <td>hduke@hotmail.com</td>\n",
       "      <td>4547 Archer Common\\nDiazchester, CA 06566-8576</td>\n",
       "      <td>DarkGreen</td>\n",
       "      <td>31.926272</td>\n",
       "      <td>11.109461</td>\n",
       "      <td>37.268959</td>\n",
       "      <td>2.664034</td>\n",
       "      <td>392.204933</td>\n",
       "    </tr>\n",
       "    <tr>\n",
       "      <th>2</th>\n",
       "      <td>pallen@yahoo.com</td>\n",
       "      <td>24645 Valerie Unions Suite 582\\nCobbborough, D...</td>\n",
       "      <td>Bisque</td>\n",
       "      <td>33.000915</td>\n",
       "      <td>11.330278</td>\n",
       "      <td>37.110597</td>\n",
       "      <td>4.104543</td>\n",
       "      <td>487.547505</td>\n",
       "    </tr>\n",
       "    <tr>\n",
       "      <th>3</th>\n",
       "      <td>riverarebecca@gmail.com</td>\n",
       "      <td>1414 David Throughway\\nPort Jason, OH 22070-1220</td>\n",
       "      <td>SaddleBrown</td>\n",
       "      <td>34.305557</td>\n",
       "      <td>13.717514</td>\n",
       "      <td>36.721283</td>\n",
       "      <td>3.120179</td>\n",
       "      <td>581.852344</td>\n",
       "    </tr>\n",
       "    <tr>\n",
       "      <th>4</th>\n",
       "      <td>mstephens@davidson-herman.com</td>\n",
       "      <td>14023 Rodriguez Passage\\nPort Jacobville, PR 3...</td>\n",
       "      <td>MediumAquaMarine</td>\n",
       "      <td>33.330673</td>\n",
       "      <td>12.795189</td>\n",
       "      <td>37.536653</td>\n",
       "      <td>4.446308</td>\n",
       "      <td>599.406092</td>\n",
       "    </tr>\n",
       "  </tbody>\n",
       "</table>\n",
       "</div>"
      ],
      "text/plain": [
       "                           Email  \\\n",
       "0      mstephenson@fernandez.com   \n",
       "1              hduke@hotmail.com   \n",
       "2               pallen@yahoo.com   \n",
       "3        riverarebecca@gmail.com   \n",
       "4  mstephens@davidson-herman.com   \n",
       "\n",
       "                                             Address            Avatar  \\\n",
       "0       835 Frank Tunnel\\nWrightmouth, MI 82180-9605            Violet   \n",
       "1     4547 Archer Common\\nDiazchester, CA 06566-8576         DarkGreen   \n",
       "2  24645 Valerie Unions Suite 582\\nCobbborough, D...            Bisque   \n",
       "3   1414 David Throughway\\nPort Jason, OH 22070-1220       SaddleBrown   \n",
       "4  14023 Rodriguez Passage\\nPort Jacobville, PR 3...  MediumAquaMarine   \n",
       "\n",
       "   Avg. Session Length  Time on App  Time on Website  Length of Membership  \\\n",
       "0            34.497268    12.655651        39.577668              4.082621   \n",
       "1            31.926272    11.109461        37.268959              2.664034   \n",
       "2            33.000915    11.330278        37.110597              4.104543   \n",
       "3            34.305557    13.717514        36.721283              3.120179   \n",
       "4            33.330673    12.795189        37.536653              4.446308   \n",
       "\n",
       "   Yearly Amount Spent  \n",
       "0           587.951054  \n",
       "1           392.204933  \n",
       "2           487.547505  \n",
       "3           581.852344  \n",
       "4           599.406092  "
      ]
     },
     "execution_count": 5,
     "metadata": {},
     "output_type": "execute_result"
    }
   ],
   "source": [
    "df.head()"
   ]
  },
  {
   "cell_type": "code",
   "execution_count": 6,
   "id": "999ad1f0",
   "metadata": {},
   "outputs": [
    {
     "data": {
      "text/plain": [
       "(500, 8)"
      ]
     },
     "execution_count": 6,
     "metadata": {},
     "output_type": "execute_result"
    }
   ],
   "source": [
    "df.shape"
   ]
  },
  {
   "cell_type": "code",
   "execution_count": 7,
   "id": "61841efd",
   "metadata": {},
   "outputs": [
    {
     "data": {
      "text/plain": [
       "Email                    object\n",
       "Address                  object\n",
       "Avatar                   object\n",
       "Avg. Session Length     float64\n",
       "Time on App             float64\n",
       "Time on Website         float64\n",
       "Length of Membership    float64\n",
       "Yearly Amount Spent     float64\n",
       "dtype: object"
      ]
     },
     "execution_count": 7,
     "metadata": {},
     "output_type": "execute_result"
    }
   ],
   "source": [
    "df.dtypes"
   ]
  },
  {
   "cell_type": "code",
   "execution_count": 8,
   "id": "5b1db065",
   "metadata": {},
   "outputs": [
    {
     "name": "stdout",
     "output_type": "stream",
     "text": [
      "<class 'pandas.core.frame.DataFrame'>\n",
      "RangeIndex: 500 entries, 0 to 499\n",
      "Data columns (total 8 columns):\n",
      " #   Column                Non-Null Count  Dtype  \n",
      "---  ------                --------------  -----  \n",
      " 0   Email                 500 non-null    object \n",
      " 1   Address               500 non-null    object \n",
      " 2   Avatar                500 non-null    object \n",
      " 3   Avg. Session Length   500 non-null    float64\n",
      " 4   Time on App           500 non-null    float64\n",
      " 5   Time on Website       500 non-null    float64\n",
      " 6   Length of Membership  500 non-null    float64\n",
      " 7   Yearly Amount Spent   500 non-null    float64\n",
      "dtypes: float64(5), object(3)\n",
      "memory usage: 31.4+ KB\n"
     ]
    }
   ],
   "source": [
    "df.info()"
   ]
  },
  {
   "cell_type": "code",
   "execution_count": 9,
   "id": "f0543840",
   "metadata": {},
   "outputs": [
    {
     "data": {
      "text/html": [
       "<div>\n",
       "<style scoped>\n",
       "    .dataframe tbody tr th:only-of-type {\n",
       "        vertical-align: middle;\n",
       "    }\n",
       "\n",
       "    .dataframe tbody tr th {\n",
       "        vertical-align: top;\n",
       "    }\n",
       "\n",
       "    .dataframe thead th {\n",
       "        text-align: right;\n",
       "    }\n",
       "</style>\n",
       "<table border=\"1\" class=\"dataframe\">\n",
       "  <thead>\n",
       "    <tr style=\"text-align: right;\">\n",
       "      <th></th>\n",
       "      <th>Avg. Session Length</th>\n",
       "      <th>Time on App</th>\n",
       "      <th>Time on Website</th>\n",
       "      <th>Length of Membership</th>\n",
       "      <th>Yearly Amount Spent</th>\n",
       "    </tr>\n",
       "  </thead>\n",
       "  <tbody>\n",
       "    <tr>\n",
       "      <th>count</th>\n",
       "      <td>500.000000</td>\n",
       "      <td>500.000000</td>\n",
       "      <td>500.000000</td>\n",
       "      <td>500.000000</td>\n",
       "      <td>500.000000</td>\n",
       "    </tr>\n",
       "    <tr>\n",
       "      <th>mean</th>\n",
       "      <td>33.053194</td>\n",
       "      <td>12.052488</td>\n",
       "      <td>37.060445</td>\n",
       "      <td>3.533462</td>\n",
       "      <td>499.314038</td>\n",
       "    </tr>\n",
       "    <tr>\n",
       "      <th>std</th>\n",
       "      <td>0.992563</td>\n",
       "      <td>0.994216</td>\n",
       "      <td>1.010489</td>\n",
       "      <td>0.999278</td>\n",
       "      <td>79.314782</td>\n",
       "    </tr>\n",
       "    <tr>\n",
       "      <th>min</th>\n",
       "      <td>29.532429</td>\n",
       "      <td>8.508152</td>\n",
       "      <td>33.913847</td>\n",
       "      <td>0.269901</td>\n",
       "      <td>256.670582</td>\n",
       "    </tr>\n",
       "    <tr>\n",
       "      <th>25%</th>\n",
       "      <td>32.341822</td>\n",
       "      <td>11.388153</td>\n",
       "      <td>36.349257</td>\n",
       "      <td>2.930450</td>\n",
       "      <td>445.038277</td>\n",
       "    </tr>\n",
       "    <tr>\n",
       "      <th>50%</th>\n",
       "      <td>33.082008</td>\n",
       "      <td>11.983231</td>\n",
       "      <td>37.069367</td>\n",
       "      <td>3.533975</td>\n",
       "      <td>498.887875</td>\n",
       "    </tr>\n",
       "    <tr>\n",
       "      <th>75%</th>\n",
       "      <td>33.711985</td>\n",
       "      <td>12.753850</td>\n",
       "      <td>37.716432</td>\n",
       "      <td>4.126502</td>\n",
       "      <td>549.313828</td>\n",
       "    </tr>\n",
       "    <tr>\n",
       "      <th>max</th>\n",
       "      <td>36.139662</td>\n",
       "      <td>15.126994</td>\n",
       "      <td>40.005182</td>\n",
       "      <td>6.922689</td>\n",
       "      <td>765.518462</td>\n",
       "    </tr>\n",
       "  </tbody>\n",
       "</table>\n",
       "</div>"
      ],
      "text/plain": [
       "       Avg. Session Length  Time on App  Time on Website  \\\n",
       "count           500.000000   500.000000       500.000000   \n",
       "mean             33.053194    12.052488        37.060445   \n",
       "std               0.992563     0.994216         1.010489   \n",
       "min              29.532429     8.508152        33.913847   \n",
       "25%              32.341822    11.388153        36.349257   \n",
       "50%              33.082008    11.983231        37.069367   \n",
       "75%              33.711985    12.753850        37.716432   \n",
       "max              36.139662    15.126994        40.005182   \n",
       "\n",
       "       Length of Membership  Yearly Amount Spent  \n",
       "count            500.000000           500.000000  \n",
       "mean               3.533462           499.314038  \n",
       "std                0.999278            79.314782  \n",
       "min                0.269901           256.670582  \n",
       "25%                2.930450           445.038277  \n",
       "50%                3.533975           498.887875  \n",
       "75%                4.126502           549.313828  \n",
       "max                6.922689           765.518462  "
      ]
     },
     "execution_count": 9,
     "metadata": {},
     "output_type": "execute_result"
    }
   ],
   "source": [
    "df.describe()"
   ]
  },
  {
   "cell_type": "code",
   "execution_count": 10,
   "id": "636c728a",
   "metadata": {},
   "outputs": [
    {
     "data": {
      "text/plain": [
       "Email                   0\n",
       "Address                 0\n",
       "Avatar                  0\n",
       "Avg. Session Length     0\n",
       "Time on App             0\n",
       "Time on Website         0\n",
       "Length of Membership    0\n",
       "Yearly Amount Spent     0\n",
       "dtype: int64"
      ]
     },
     "execution_count": 10,
     "metadata": {},
     "output_type": "execute_result"
    }
   ],
   "source": [
    "df.isnull().sum()"
   ]
  },
  {
   "cell_type": "code",
   "execution_count": 11,
   "id": "b0c6dc67",
   "metadata": {},
   "outputs": [
    {
     "data": {
      "text/plain": [
       "Index(['Email', 'Address', 'Avatar', 'Avg. Session Length', 'Time on App',\n",
       "       'Time on Website', 'Length of Membership', 'Yearly Amount Spent'],\n",
       "      dtype='object')"
      ]
     },
     "execution_count": 11,
     "metadata": {},
     "output_type": "execute_result"
    }
   ],
   "source": [
    "df.columns"
   ]
  },
  {
   "cell_type": "code",
   "execution_count": 12,
   "id": "a2119b18",
   "metadata": {},
   "outputs": [
    {
     "data": {
      "text/plain": [
       "0"
      ]
     },
     "execution_count": 12,
     "metadata": {},
     "output_type": "execute_result"
    }
   ],
   "source": [
    "df.duplicated().sum()"
   ]
  },
  {
   "cell_type": "code",
   "execution_count": 13,
   "id": "01e57345",
   "metadata": {},
   "outputs": [
    {
     "data": {
      "text/plain": [
       "array(['Violet', 'DarkGreen', 'Bisque', 'SaddleBrown', 'MediumAquaMarine',\n",
       "       'FloralWhite', 'DarkSlateBlue', 'Aqua', 'Salmon', 'Brown',\n",
       "       'Tomato', 'RoyalBlue', 'DarkBlue', 'Peru', 'PowderBlue',\n",
       "       'OliveDrab', 'Cyan', 'LightSeaGreen', 'PeachPuff', 'Black',\n",
       "       'Olive', 'Silver', 'Wheat', 'Teal', 'Linen', 'MediumSlateBlue',\n",
       "       'LemonChiffon', 'DarkOrchid', 'SeaGreen', 'SteelBlue',\n",
       "       'DarkMagenta', 'DarkGoldenRod', 'DarkSeaGreen', 'Gainsboro',\n",
       "       'HotPink', 'HoneyDew', 'WhiteSmoke', 'GhostWhite', 'Chocolate',\n",
       "       'Snow', 'BurlyWood', 'Moccasin', 'BlueViolet', 'MediumBlue',\n",
       "       'GreenYellow', 'SandyBrown', 'MediumVioletRed', 'DarkOliveGreen',\n",
       "       'DarkSalmon', 'DeepPink', 'SkyBlue', 'Magenta', 'DarkTurquoise',\n",
       "       'SpringGreen', 'OrangeRed', 'LimeGreen', 'LightGreen',\n",
       "       'LightYellow', 'MintCream', 'DimGray', 'Indigo', 'LightSalmon',\n",
       "       'DeepSkyBlue', 'Turquoise', 'LightSteelBlue', 'Cornsilk',\n",
       "       'DarkKhaki', 'FireBrick', 'SlateGray', 'Crimson', 'MidnightBlue',\n",
       "       'DarkCyan', 'OldLace', 'Gray', 'LightPink', 'BlanchedAlmond',\n",
       "       'CadetBlue', 'PaleTurquoise', 'Chartreuse', 'Khaki',\n",
       "       'MediumSpringGreen', 'Lime', 'SlateBlue', 'Orange', 'Fuchsia',\n",
       "       'GoldenRod', 'ForestGreen', 'Green', 'LightSkyBlue', 'Azure',\n",
       "       'LightGray', 'MediumOrchid', 'Sienna', 'Aquamarine', 'Purple',\n",
       "       'CornflowerBlue', 'DarkSlateGray', 'DarkRed', 'DarkViolet',\n",
       "       'LavenderBlush', 'Navy', 'RosyBrown', 'Pink', 'Red', 'Lavender',\n",
       "       'White', 'MediumSeaGreen', 'MediumPurple', 'Tan', 'LawnGreen',\n",
       "       'Thistle', 'Orchid', 'Yellow', 'AntiqueWhite', 'AliceBlue',\n",
       "       'PapayaWhip', 'Gold', 'MediumTurquoise', 'YellowGreen',\n",
       "       'LightCyan', 'LightCoral', 'SeaShell', 'LightGoldenRodYellow',\n",
       "       'Blue', 'LightBlue', 'PaleGoldenRod', 'Coral', 'DarkOrange',\n",
       "       'Ivory', 'PaleVioletRed', 'DarkGray', 'MistyRose', 'NavajoWhite',\n",
       "       'DodgerBlue', 'IndianRed', 'PaleGreen', 'LightSlateGray', 'Beige'],\n",
       "      dtype=object)"
      ]
     },
     "execution_count": 13,
     "metadata": {},
     "output_type": "execute_result"
    }
   ],
   "source": [
    "df['Avatar'].unique()"
   ]
  },
  {
   "cell_type": "code",
   "execution_count": 14,
   "id": "2b9c3951",
   "metadata": {},
   "outputs": [
    {
     "data": {
      "text/plain": [
       "array(['835 Frank Tunnel\\nWrightmouth, MI 82180-9605',\n",
       "       '4547 Archer Common\\nDiazchester, CA 06566-8576',\n",
       "       '24645 Valerie Unions Suite 582\\nCobbborough, DC 99414-7564',\n",
       "       '1414 David Throughway\\nPort Jason, OH 22070-1220',\n",
       "       '14023 Rodriguez Passage\\nPort Jacobville, PR 37242-1057',\n",
       "       '645 Martha Park Apt. 611\\nJeffreychester, MN 67218-7250',\n",
       "       '68388 Reyes Lights Suite 692\\nJosephbury, WV 92213-0247',\n",
       "       'Unit 6538 Box 8980\\nDPO AP 09026-4941',\n",
       "       '860 Lee Key\\nWest Debra, SD 97450-0495',\n",
       "       'PSC 2734, Box 5255\\nAPO AA 98456-7482',\n",
       "       '26104 Alexander Groves\\nAlexandriaport, WY 28244-9149',\n",
       "       'Unit 2413 Box 0347\\nDPO AA 07580-2652',\n",
       "       '6705 Miller Orchard Suite 186\\nLake Shanestad, MO 75696-5051',\n",
       "       '05302 Dunlap Ferry\\nNew Stephaniehaven, MP 42268',\n",
       "       '7773 Powell Springs Suite 190\\nSamanthaland, ND 44358',\n",
       "       '49558 Ramirez Road Suite 399\\nPhillipstad, OH 35641-3238',\n",
       "       '6362 Wilson Mountain\\nJohnsonfurt, GA 15169',\n",
       "       '8982 Burton Row\\nWilsonton, PW 88606',\n",
       "       '64475 Andre Club Apt. 795\\nPort Dannytown, PW 63227',\n",
       "       '544 Alexander Heights Suite 768\\nNorth Johnview, MT 57912',\n",
       "       '84426 Julia Vista\\nNorth Teresa, KY 50756',\n",
       "       'PSC 2490, Box 2120\\nAPO AE 15445-2876',\n",
       "       'PSC 5723, Box 8159\\nAPO AA 74738',\n",
       "       'USNS Cardenas\\nFPO AA 85439-9449',\n",
       "       '019 Elliott Tunnel Suite 190\\nNicholsbury, WV 60804-4440',\n",
       "       '9495 Mary Fall Apt. 777\\nGlassport, ND 17957-5596',\n",
       "       '657 Judith Crossroad\\nHancockchester, VI 75658-5788',\n",
       "       '8522 Regina Port Suite 782\\nPort Kaitlin, TX 50501-7264',\n",
       "       '40000 Ann Port Suite 474\\nYoungberg, MS 03651',\n",
       "       '9507 Robert Prairie Apt. 601\\nEast Crystalview, SC 56814',\n",
       "       '0772 Michael Isle Suite 617\\nMeyerstown, WA 45449-6768',\n",
       "       '739 David Isle Suite 818\\nChandlertown, DC 34587',\n",
       "       'USCGC Gill\\nFPO AA 26496',\n",
       "       '5277 Patel Brook\\nEast Audrey, NJ 19075',\n",
       "       '9135 Rodriguez Dam\\nRamirezberg, MS 77223',\n",
       "       '24373 Mcgee Drive Apt. 990\\nNew Mariahaven, NH 14470',\n",
       "       '997 Campbell Flat Suite 970\\nEast Amanda, PW 22048',\n",
       "       '7835 Rogers Roads\\nEast Amberhaven, MI 70835-2286',\n",
       "       '4589 Dan Fords\\nBeasleyburgh, ME 96590-8272',\n",
       "       '1958 Robert Bridge Apt. 250\\nMalloryland, ID 03393-5336',\n",
       "       '2977 Perez Row\\nLake Jack, TN 45336-9436',\n",
       "       '9801 Thomas Pike Suite 058\\nBrandishire, AK 88122-1314',\n",
       "       '18372 Matthew Fork Suite 705\\nNorth Matthewmouth, KY 99737',\n",
       "       '69403 Hernandez Knolls\\nMarciashire, DE 36417-5667',\n",
       "       'USNV Fuller\\nFPO AE 32122-5711',\n",
       "       '448 Stewart Divide\\nNew Ashleyfort, FM 84050',\n",
       "       '70129 Darrell Spring\\nThomasmouth, HI 39319-2739',\n",
       "       '412 Jackson River\\nKleinburgh, KS 52039-7404',\n",
       "       '546 Benjamin Lights Suite 421\\nRomerofurt, NC 43746-4501',\n",
       "       '4066 Gonzalez Dam Apt. 277\\nWest Jessica, TN 36880',\n",
       "       '11143 Park Squares\\nSamanthatown, UT 97073',\n",
       "       '645 Elizabeth Pass\\nWilliamview, MS 51544',\n",
       "       '861 Annette Stream Suite 771\\nNorth Miguel, CA 33824-1610',\n",
       "       '044 Riggs Expressway\\nLake Stevenchester, AL 22283',\n",
       "       'PSC 4508, Box 7961\\nAPO AA 55271-2375',\n",
       "       '1867 Gregory Isle Suite 022\\nPort Tammy, LA 52305-9696',\n",
       "       '2891 Martin Plain Suite 197\\nMelaniestad, NE 65650-8529',\n",
       "       '9944 Trevor Expressway\\nRobinsonstad, OR 34630-1840',\n",
       "       '264 Derek Dam Apt. 680\\nWest Danielle, SD 91517-8611',\n",
       "       'USNV Reese\\nFPO AA 73568-0730',\n",
       "       '7761 Hughes Curve Apt. 880\\nRodriguezberg, MN 96206-5317',\n",
       "       '12612 Johnson Skyway Suite 764\\nJessicaville, CT 14968-6590',\n",
       "       '5379 Rhonda Prairie Apt. 696\\nBrownland, WA 87027',\n",
       "       '716 Bush Greens Apt. 098\\nTrevorton, MA 17817-8000',\n",
       "       '6861 Lopez Fork Apt. 114\\nSouth Jamiechester, DE 63993',\n",
       "       '223 Love Trail Suite 831\\nPort Jeffrey, IN 46849',\n",
       "       '049 Matthew Terrace\\nLake Matthew, MS 20210',\n",
       "       '65407 Warner Forges Suite 071\\nNew Lori, AZ 30132-2395',\n",
       "       'PSC 3408, Box 3353\\nAPO AE 05113-1257',\n",
       "       '95967 Pitts Burgs\\nWest Sarah, MH 27817-5147',\n",
       "       '89154 Jones Stream Suite 311\\nEast Katie, NC 72742-1516',\n",
       "       'Unit 6174 Box 1949\\nDPO AP 27478',\n",
       "       '55436 Devon Plain\\nWest Kendraberg, HI 18826-3623',\n",
       "       '51920 Kent Junctions Apt. 352\\nWalkerport, NY 11257-6647',\n",
       "       '10022 Wilson Orchard Suite 107\\nHarrisstad, MH 99272',\n",
       "       '606 Perez Drives\\nMaryside, CO 94387-5877',\n",
       "       '967 Andrew Spurs\\nMathistown, CO 28230',\n",
       "       'PSC 9698, Box 5466\\nAPO AE 75496-3580',\n",
       "       '284 Jennifer Curve\\nLake Hollyberg, IN 05228',\n",
       "       '71299 Jessica Shoals\\nEast Mark, IA 48085-1070',\n",
       "       '873 Clay Flats Apt. 810\\nLake Kyle, GU 48782',\n",
       "       '565 Duarte Keys Suite 293\\nTraceytown, IN 17797',\n",
       "       '19018 Christopher Neck Apt. 963\\nMcintoshchester, IA 66908-2456',\n",
       "       'USCGC Thomas\\nFPO AP 43708-2468',\n",
       "       '5401 Holt Corner Apt. 195\\nHannahstad, NC 86693-3595',\n",
       "       '4568 Jeffrey Lane Apt. 512\\nSouth Jason, WV 78116-0966',\n",
       "       '73469 Baker Forest Apt. 550\\nAllenbury, TX 63791',\n",
       "       '20711 Martin Harbors Apt. 582\\nNew Justinborough, AK 40834-2664',\n",
       "       '7602 Scott Plaza Apt. 158\\nLake Amberland, VI 10516-3276',\n",
       "       '16001 Wilkins Island Suite 852\\nJonathanfort, AL 88541-7817',\n",
       "       '5118 Madden Views Apt. 738\\nNorth Barryport, AS 28731-2270',\n",
       "       'USCGC Nicholson\\nFPO AE 43987-0470',\n",
       "       '4522 Paul Heights Suite 851\\nAdamsland, RI 08981',\n",
       "       '21918 Gail Glens\\nBarbershire, SD 45790-8387',\n",
       "       '3600 Amber Plains Suite 002\\nNorth Jamesburgh, VA 07917',\n",
       "       '71757 David Freeway Apt. 851\\nWest Carriefurt, NC 27106-3364',\n",
       "       '79139 Boone Common\\nStewartstad, DE 63633-1812',\n",
       "       'USS Johnson\\nFPO AE 35617-5384', 'USNS Mitchell\\nFPO AP 92946',\n",
       "       '3794 Michael Forest Apt. 750\\nNew Stephenberg, MD 61004-0181',\n",
       "       '88978 Noble Crest\\nNorth Rosemouth, FM 53484-6689',\n",
       "       '82227 Farmer Throughway Suite 266\\nLeeborough, WV 35324',\n",
       "       '5791 Jessica Cove\\nMckinneyborough, OK 64460-7536',\n",
       "       '465 Kenneth Common Apt. 192\\nNorth Tracy, WI 36024-8978',\n",
       "       '06939 Jones Neck\\nMariaview, VT 87641',\n",
       "       '3132 Willie Harbor\\nKaylafurt, FL 01107',\n",
       "       '399 Jeremy Skyway Suite 377\\nNorth Keithville, IL 55074',\n",
       "       '66880 Mckinney Hills\\nMatthewchester, MH 88386',\n",
       "       '0377 Reed Via Apt. 169\\nAlexandershire, MO 43498',\n",
       "       '39637 Griffin Plain Suite 691\\nNew Deborahview, MP 73870-3773',\n",
       "       '931 Andrews Heights\\nSouth Shelley, NV 21850',\n",
       "       '15810 Karl Plain\\nDavidville, TX 64072',\n",
       "       '46079 Gonzalez Loaf\\nWilliamside, PA 72265',\n",
       "       '3144 Jamie Rest\\nMaxwellville, NC 93749-1190',\n",
       "       '08079 Thompson Village\\nNorth Lukeborough, AL 16825',\n",
       "       '29282 Alexander Street\\nSouth Andrewmouth, MS 22041',\n",
       "       '8830 Debra Loaf Apt. 341\\nDrakeville, ME 22340',\n",
       "       '18219 Jackson Well\\nFosterton, MP 85302',\n",
       "       '572 Michelle Motorway Apt. 889\\nNew Craig, ND 17250',\n",
       "       'PSC 0811, Box 7054\\nAPO AA 91691',\n",
       "       '26737 Brooks Roads\\nVincentstad, VA 93089',\n",
       "       '662 Wells Stravenue Apt. 578\\nSouth Kristaview, DC 49423-2452',\n",
       "       '0922 Gutierrez Loaf\\nWattsbury, OH 96315',\n",
       "       '38154 Davis Locks\\nLake Stevenfort, KY 86814-9222',\n",
       "       '7955 Samantha Walk Suite 230\\nNorth Luis, IL 44629',\n",
       "       '32202 Curtis Branch Apt. 411\\nPort Brettmouth, KY 01192-0594',\n",
       "       '102 Karen Court\\nNew Jameston, SC 57761-6570',\n",
       "       '9759 Tammy Skyway Apt. 171\\nLake Debra, AS 95011',\n",
       "       'PSC 6717, Box 7673\\nAPO AE 66950-0088',\n",
       "       '581 Smith Prairie Suite 995\\nAndersontown, AS 58802',\n",
       "       '422 Rivers Springs Suite 221\\nNorth Barbara, WI 51990-7596',\n",
       "       '2859 Rodriguez Forks\\nPort Josephtown, OH 13591-3011',\n",
       "       '0537 Rice Village\\nWest Kylieberg, NJ 19433-5090',\n",
       "       '7182 Stephen Fork Suite 150\\nPort Laurachester, CO 99974-1961',\n",
       "       '459 Amy Burg\\nLake Travis, OR 53314',\n",
       "       'PSC 8159, Box 3254\\nAPO AP 71071-4890',\n",
       "       '623 Erica Flat\\nLake Josephland, MT 73514',\n",
       "       '9271 Christopher Prairie\\nDouglasshire, NM 18581',\n",
       "       '88995 Edwards Row Suite 456\\nNorth Jo, DE 02062-7953',\n",
       "       '35970 Holly Key\\nPort Frank, VT 78059-9385',\n",
       "       '93306 Donald Greens\\nNew Christopherbury, SC 59447',\n",
       "       '43102 Russo View Suite 717\\nHollyport, SC 15344',\n",
       "       '973 Marc Ports\\nBrownstad, IN 48786-6700',\n",
       "       '978 Bean Square\\nDeanburgh, OR 95149',\n",
       "       '27563 Vincent Lake\\nAllenchester, DC 22159',\n",
       "       '979 Alison Motorway Apt. 676\\nNorth Frank, HI 55870-2651',\n",
       "       '969 William Manor\\nWest Sherry, MA 66282-2258',\n",
       "       '555 Hunt Track Suite 307\\nSouth Kristi, PA 73709',\n",
       "       '811 Maria Run\\nSanchezville, MI 04953',\n",
       "       '3604 Richard Junctions Suite 448\\nBrownburgh, CO 64856-8238',\n",
       "       '170 Andrew Mews\\nNorth Susan, NM 85338-2426',\n",
       "       '14220 Carla Flat Suite 521\\nLake Matthew, DE 06183',\n",
       "       '8594 Erica Manors Apt. 529\\nLake Miguel, MH 10652-9266',\n",
       "       '4291 Nichols Fork Apt. 562\\nThomaschester, SC 08938-8769',\n",
       "       '748 Michael Plaza\\nWest Billyside, UT 20799',\n",
       "       '672 Jesus Roads Apt. 443\\nThompsonland, WY 69228',\n",
       "       '0272 Jones Way\\nLake Angela, MP 97003-5793',\n",
       "       'USNV Johnson\\nFPO AP 19026',\n",
       "       '691 Johnson Field Apt. 510\\nMichaelville, VI 78140',\n",
       "       '6218 Michael Station Apt. 982\\nSalazarburgh, NJ 79955',\n",
       "       'PSC 3676, Box 1549\\nAPO AE 26130-7683',\n",
       "       '94730 Martin Mount\\nNew Matthew, VI 08142-6708',\n",
       "       '5480 Vazquez Crossing Suite 825\\nEast Christopherland, PA 42104',\n",
       "       'USCGC Dodson\\nFPO AA 87781-3935',\n",
       "       'Unit 6678 Box 6628\\nDPO AP 44369',\n",
       "       '75805 Larry Mills\\nEast Cristian, MH 53820',\n",
       "       '04311 Oconnor Park Apt. 415\\nKelleystad, ND 63064-8935',\n",
       "       '770 Lewis Pike Apt. 869\\nPhelpsport, PA 93969-4887',\n",
       "       '86536 Barnes Track\\nSouth Kyle, MT 21570-5606',\n",
       "       '586 Timothy Union Suite 592\\nEast Joseph, MO 81374',\n",
       "       '9287 Daniel Rest Apt. 608\\nAllentown, SD 73050',\n",
       "       '8667 Suzanne Motorway Suite 241\\nSpencechester, KY 74385-4618',\n",
       "       '374 Dana Junctions\\nLangside, WI 36474',\n",
       "       '9847 Michael Plaza Suite 837\\nLake Christophershire, NV 87324-8427',\n",
       "       '353 Jones Loaf Apt. 767\\nSouth Michaelburgh, PR 16281-4840',\n",
       "       '6058 Thomas Divide\\nMatthewland, PA 89442-8198',\n",
       "       '8032 Hodge Circle Apt. 255\\nLake Jessicashire, OR 54914',\n",
       "       '601 Ashley Loop Suite 162\\nPort Benjaminview, DE 02456',\n",
       "       '16329 Sara Neck Apt. 463\\nBryanside, TX 62329',\n",
       "       '449 Williamson Lakes Apt. 118\\nTravisville, AK 06848-0177',\n",
       "       '047 Carla Locks\\nCoreymouth, AR 98066',\n",
       "       '757 Amber Gateway Apt. 787\\nNew Stephaniechester, OR 61576-6056',\n",
       "       '5183 Michael Ramp\\nEast Lukeburgh, FL 93972',\n",
       "       '0127 Morgan Fields Apt. 080\\nThompsonfurt, ME 01160-7043',\n",
       "       '667 Stephanie Lake Apt. 658\\nMarthashire, NC 11815-2307',\n",
       "       '07867 Horn Lake\\nWest Teresatown, VT 64387-1228',\n",
       "       '55414 Ramirez Union Apt. 614\\nWest Crystal, CA 03845-2631',\n",
       "       '55479 Peters Field Apt. 702\\nNorth Micheleberg, PR 45063',\n",
       "       '2491 Yates Crest Suite 316\\nConnieville, FL 92080-0819',\n",
       "       '223 Powell Ridges\\nEast Richardtown, RI 90715-2178',\n",
       "       '022 Taylor Mews Suite 692\\nHallberg, NJ 53614',\n",
       "       '56674 Melanie Flats\\nSchneiderberg, IN 66532',\n",
       "       '1279 Douglas Mountains\\nPort Christopherberg, RI 32811-8325',\n",
       "       '222 Jason Park\\nDominguezshire, NC 98241',\n",
       "       '6009 Heather Park\\nHowardhaven, SD 51705-2993',\n",
       "       '19123 Craig Isle Apt. 719\\nMillsmouth, SC 94194',\n",
       "       '16068 Kelly Parks\\nWrightside, NH 21447',\n",
       "       '89300 Amber Centers Apt. 879\\nVictoriaton, VT 98394',\n",
       "       '1576 Lane Shoal\\nRogerton, PR 63867-3426',\n",
       "       '120 Micheal Fort Apt. 762\\nEast Patrickbury, WY 65946',\n",
       "       '338 Graham Loaf Suite 236\\nEast Toddton, FM 43566-4238',\n",
       "       '2302 Joshua Park\\nMillerbury, WA 30239-8144',\n",
       "       '70562 Gonzalez Stravenue\\nElizabethland, WI 40700-9149',\n",
       "       '7613 Miguel Knoll Suite 762\\nWest Katherine, WV 19406',\n",
       "       '981 David Square\\nNew Jacquelinetown, AK 66018-4092',\n",
       "       '297 Francis Valley\\nSouth Lindsey, NY 13669-5367',\n",
       "       'Unit 4065 Box 2267\\nDPO AE 69180-7372',\n",
       "       '988 Matthew Plaza\\nLake Jacobshire, AL 37889',\n",
       "       '870 Dennis Throughway\\nWilsonport, PW 12658',\n",
       "       '50593 Wells Roads Apt. 110\\nSouth Amy, MI 06969-2026',\n",
       "       '15863 Harrington Glens Suite 012\\nMarystad, LA 50652-8210',\n",
       "       '9580 Clark Trail Suite 687\\nWilliamsside, FM 57367',\n",
       "       '1470 Kathleen Pass\\nSouth Christopherberg, SD 22850',\n",
       "       '1995 Susan Locks Suite 760\\nEast Cheryl, AR 37103-5176',\n",
       "       '20888 Erin Via\\nGrahamville, NH 72913-6101',\n",
       "       '03065 Henry Courts Suite 443\\nDerekstad, VT 88473',\n",
       "       '1416 Rachel Crescent\\nWest Laurieside, IL 81119-7229',\n",
       "       '20618 David Square\\nGayland, HI 78719-9628',\n",
       "       '2781 Matthew Wells Apt. 569\\nPotterview, KS 50763-8282',\n",
       "       '13044 Woods Heights\\nAndreamouth, ND 52317-6007',\n",
       "       '791 Allen Trafficway Suite 776\\nChristopherland, DC 41460',\n",
       "       '36192 Ho Spring\\nNew Michael, RI 65851-6369',\n",
       "       '40494 Robert Park\\nHeatherside, IL 70364',\n",
       "       '446 Daniel Rest Suite 644\\nPort Matthewhaven, MN 89465',\n",
       "       '96393 Joshua Rapids\\nJonesview, VA 58733',\n",
       "       'Unit 7032 Box 7016\\nDPO AE 44749-2992',\n",
       "       '4800 Ashley Spur Apt. 347\\nDannyfort, GA 23352',\n",
       "       '13693 Cox Falls Apt. 693\\nPadillaview, PW 28998-0386',\n",
       "       '40288 Stephens Corner Apt. 221\\nWest Stephanie, OK 55617-4332',\n",
       "       '63872 Chavez Lodge\\nDanielton, NJ 85847',\n",
       "       '28942 Bradford Crescent\\nNew Morganfurt, MD 77162-0478',\n",
       "       '1768 Rosales Ford Apt. 793\\nLake Markbury, SC 31567',\n",
       "       '496 Bush Turnpike Apt. 674\\nDonnabury, OR 32596-0079',\n",
       "       '981 Matthew Valley Apt. 621\\nLake Tracyburgh, NM 33288-1364',\n",
       "       '2583 Mark Springs\\nLake Robert, AL 40928',\n",
       "       '04140 Cameron Brooks Apt. 724\\nSouth Laurenberg, HI 08562',\n",
       "       '2086 Lisa View\\nOrtegabury, MI 43544',\n",
       "       '388 Kelly Pike\\nWest Jeffery, DE 44039-7785',\n",
       "       'USCGC Hernandez\\nFPO AE 53064',\n",
       "       '91425 Roy Trail\\nRivaston, NE 34949-2588',\n",
       "       '16763 Melissa Creek Suite 367\\nNorth Keithland, PW 29458',\n",
       "       '81814 Pratt Squares Suite 460\\nNorth Robert, GU 77741-1307',\n",
       "       '2380 Fisher Neck Suite 233\\nBrianland, AZ 34453-0625',\n",
       "       '22630 Bell Centers Suite 030\\nNorth Danielport, FM 31756',\n",
       "       '0030 Mathis Square Suite 154\\nSouth Jadehaven, AR 33997-4450',\n",
       "       '76778 Underwood Knoll\\nNew Gregory, ID 57323',\n",
       "       '61629 Johnson Underpass\\nNew Eric, MI 92352-5044',\n",
       "       '30242 Rubio Forest\\nPort Kyleland, VA 18339-5779',\n",
       "       '17463 George Ports\\nEast Julianborough, WY 68291',\n",
       "       'PSC 1634, Box 8167\\nAPO AA 49814',\n",
       "       '12641 Greer Track Apt. 183\\nNorth Mitchell, IA 77991-6276',\n",
       "       '311 Savannah Ramp Suite 245\\nCarlsonbury, LA 08453-6035',\n",
       "       '3751 Green Loaf\\nNew Julia, VT 20897',\n",
       "       '14889 Page Prairie\\nDennisville, NV 27982-4210',\n",
       "       '193 Ashley Plaza Suite 706\\nHernandezport, WV 71270-7338',\n",
       "       'PSC 6338, Box 7637\\nAPO AA 22066',\n",
       "       '360 Albert Spring\\nSouth Tylerbury, VA 92641-9077',\n",
       "       '82537 Alice Centers\\nGregland, OR 71749',\n",
       "       '295 Michael Keys Apt. 706\\nEricfurt, KS 09476',\n",
       "       '38528 Jerry Valleys Suite 027\\nJonesstad, NY 74787-2691',\n",
       "       '3286 Lynch Field\\nHenrychester, RI 41833-7902',\n",
       "       '450 Samantha Valleys\\nCollinsborough, KS 37205-9891',\n",
       "       '601 Mitchell Estates Suite 922\\nPort Daniel, WV 83595',\n",
       "       '81830 Katie Squares\\nPort Austinland, FL 73522-0761',\n",
       "       '06392 Matthew Viaduct Suite 000\\nLake Ronald, NY 45787-0181',\n",
       "       '634 Nancy Shoals Suite 241\\nSouth Barry, AR 52307',\n",
       "       '90089 Eric Well\\nNicoleside, MT 95918',\n",
       "       '4190 Shelton Harbors\\nNorth Christopher, RI 60962',\n",
       "       '3761 Jared Mountain\\nNicholasport, WY 51181',\n",
       "       '239 Bush Fall Apt. 906\\nRiveraville, KY 88906-3319',\n",
       "       '5052 Mccoy Passage Apt. 328\\nTeresaport, FM 97139',\n",
       "       '78787 Mitchell Lights\\nMatthewville, AZ 30310-0130',\n",
       "       '46954 Melissa Corner\\nNorth Amanda, LA 34844',\n",
       "       '45442 Barber Key Apt. 882\\nSouth Jaclyn, NM 24367-3001',\n",
       "       '0338 Francis Junction\\nLake Alexstad, NH 14302',\n",
       "       '232 John Haven Suite 456\\nJohnsonhaven, VT 90106-0173',\n",
       "       '0859 Audrey Isle\\nSouth Zachary, AS 09138',\n",
       "       '5358 Stephen Parkway Suite 894\\nKimview, MN 17436-4528',\n",
       "       '721 Robert Viaduct Apt. 052\\nLake Olivia, MO 93807',\n",
       "       '836 Amy Villages\\nHannahside, RI 09207-2616',\n",
       "       '909 Hicks Mountains\\nGabriellaport, MD 33121',\n",
       "       '54051 Jenkins View\\nEast Danielshire, IN 32905-7784',\n",
       "       '24458 Hudson Square\\nHallside, PA 68038',\n",
       "       '149 Monica Vista Apt. 908\\nJasonberg, TX 19632-8886',\n",
       "       '99902 Scott Road\\nJoyton, MT 46760-7400',\n",
       "       '74260 Carly Mews Suite 703\\nJonesberg, OR 39594',\n",
       "       '3324 Branch Squares Suite 221\\nRiddleton, OK 34594',\n",
       "       '66636 Jason Parkway\\nKellyside, NV 67033',\n",
       "       'Unit 2079 Box 7792\\nDPO AP 47668',\n",
       "       'Unit 0474 Box 0661\\nDPO AP 48938-3469',\n",
       "       '625 Andrew Locks\\nMadisonside, AZ 74068',\n",
       "       '960 Miller Union\\nEast Virginiastad, MS 74191-2346',\n",
       "       '4029 Gerald Cape\\nSouth Laurenborough, SC 19130-5133',\n",
       "       '6961 Mary Stravenue Suite 857\\nHilltown, TX 52813-7703',\n",
       "       '93101 Shannon Common\\nSouth Destiny, ND 30379-2855',\n",
       "       '449 Amanda Tunnel\\nJoshuahaven, CO 15377',\n",
       "       '839 Heather Cliff\\nSouth Blake, SC 90412',\n",
       "       '13799 Cortez Inlet Suite 733\\nEast Stevenshire, AL 32757',\n",
       "       '581 Gilmore Port\\nHeatherville, MS 20879',\n",
       "       '0001 Mack Mill\\nNorth Jennifer, NE 42021-5936',\n",
       "       '634 Robert Hill Apt. 800\\nCoxtown, OK 32430',\n",
       "       'Unit 7029 Box 3429\\nDPO AE 56975',\n",
       "       'USS Beasley\\nFPO AP 50556-7615',\n",
       "       '109 Jessica Manor\\nNorth Patriciashire, PR 84726',\n",
       "       '036 Mary Drive Apt. 581\\nPort Brandytown, FL 66143',\n",
       "       '14548 Hayes Isle Apt. 436\\nGarciaville, IN 65366',\n",
       "       '08111 Barry Highway\\nBentonberg, GU 13706',\n",
       "       '508 May Highway\\nPort Jacobview, MN 31932',\n",
       "       '9781 Lopez Spurs Apt. 300\\nFitzgeraldborough, MA 89035-4317',\n",
       "       '190 Kelley Burg\\nWest Juliaport, IA 35826-8163',\n",
       "       'Unit 7502 Box 8345\\nDPO AE 53747',\n",
       "       '49352 Avila Terrace Suite 624\\nAmandaland, GA 99736',\n",
       "       '093 Larson Ports\\nWest Kathryn, OK 91243',\n",
       "       '43382 Heather Meadows\\nNew Lisaburgh, WI 19151-0302',\n",
       "       '686 Baker Fords Suite 893\\nEast John, IL 50171-9547',\n",
       "       '456 Eric Views\\nNorth Amanda, MS 98876-3102',\n",
       "       '740 Marshall Squares\\nDavidbury, AL 94251-0846',\n",
       "       '9991 Macdonald Squares\\nVasquezborough, WY 73586-4597',\n",
       "       '363 Kathleen Underpass\\nAshleyside, PR 98964',\n",
       "       '63010 Reyes Creek Apt. 569\\nWest Catherinetown, MN 67491-6816',\n",
       "       '66340 Michael Lane Suite 878\\nWest Brian, LA 69137-1147',\n",
       "       '4475 Lopez Stravenue Apt. 690\\nSmithchester, NV 84347',\n",
       "       '229 Eric Mountains\\nNew Caleb, PA 00396',\n",
       "       '3976 Tom Streets Suite 438\\nPort Davidtown, AL 55334-2369',\n",
       "       '06103 Erik Fields Suite 781\\nJonesmouth, GA 49931-3078',\n",
       "       '510 Michele Port\\nEast Angela, HI 23618',\n",
       "       '2064 Poole Groves\\nNorth Chrisland, SC 78169',\n",
       "       '57120 Frank Keys\\nJerryborough, DC 81028-0939',\n",
       "       '6734 Perez Trafficway Suite 395\\nNunezland, NC 83245',\n",
       "       '649 King Extension\\nNorth April, NY 54175',\n",
       "       '732 Heather Place\\nNorth Michael, VT 92527',\n",
       "       '8248 Parker Overpass Apt. 024\\nLake Pamela, WY 44322-1735',\n",
       "       '15298 Erickson Shore Apt. 056\\nSouth Patrickfort, MD 16503-3145',\n",
       "       '4835 Jessica Walk Suite 205\\nWest Jacob, NH 93681',\n",
       "       '920 Anderson Extensions\\nGreenfurt, GA 19316-3498',\n",
       "       '4301 Park Lake Apt. 158\\nSpencertown, SD 45934',\n",
       "       '52326 Townsend Centers\\nLake Williamburgh, NJ 70568-7463',\n",
       "       '157 Linda Roads\\nNew Jimmyshire, MH 51942',\n",
       "       '3687 Sarah Ranch Suite 919\\nGainesfort, AK 05665',\n",
       "       '314 Kidd Run\\nJohnfort, KS 46546-2732',\n",
       "       '06307 Scott Spurs Suite 161\\nJessicaburgh, NH 26093-5908',\n",
       "       '3485 Anthony Street Apt. 119\\nMikeberg, FL 32602',\n",
       "       '91542 Jessica Springs Suite 255\\nThomashaven, MT 39239-3790',\n",
       "       '410 Gonzalez Corners Apt. 187\\nEast Stephenport, VT 22771',\n",
       "       '407 Blake Ways\\nPort Davidland, WA 78438',\n",
       "       '1583 Anderson Coves\\nEast Rebecca, NH 27212',\n",
       "       '32303 Baldwin Causeway\\nSouth Robertside, HI 58126',\n",
       "       '395 Summers Courts Apt. 413\\nCoopermouth, IA 21205-1079',\n",
       "       '0360 Pearson Dam Suite 263\\nLake Shawn, UT 65986-4190',\n",
       "       '74839 Michael Plains Suite 356\\nSouth Austinshire, ND 40309-1424',\n",
       "       '27032 Michelle Forest\\nMorrowtown, ND 14749',\n",
       "       '01512 Hendricks Rue\\nEast Pamela, PR 46481',\n",
       "       '5527 Hogan Road\\nSouth Jeffreychester, MA 28632',\n",
       "       '7346 Jennifer Green Suite 148\\nWagnertown, MT 65972',\n",
       "       '37216 Krista Drives\\nWest Andrew, DE 70036',\n",
       "       '1094 Bentley Forges\\nLake Antonio, MA 29181-3664',\n",
       "       '922 Hampton Path Suite 198\\nPort Jasonmouth, FL 46623',\n",
       "       '0833 Brian Canyon Suite 566\\nAnthonymouth, VT 01329-7541',\n",
       "       '577 Peters Turnpike\\nLoriport, MA 60572-1669',\n",
       "       '0281 Dale Wells Suite 656\\nEast Joshua, ME 73389',\n",
       "       '13164 Miller Camp\\nSouth Deannaberg, ID 85433',\n",
       "       '389 Joshua Stravenue Apt. 983\\nMartinezland, MN 29049',\n",
       "       '497 Julian Brook Suite 872\\nHillberg, FM 87927-5760',\n",
       "       '78297 Brown Street Apt. 786\\nEast Taylorfurt, AK 97246',\n",
       "       '2595 James Creek Apt. 571\\nMillerberg, HI 82236',\n",
       "       '97686 Robertson Cape Suite 607\\nPort Veronicaside, NE 47293',\n",
       "       '9863 Dawn Court Suite 429\\nLake Connie, MI 12238',\n",
       "       '51173 Curtis Cliff Apt. 727\\nRamoston, DE 32714-4579',\n",
       "       '939 Watson Run\\nStaceyberg, VT 58376-0454',\n",
       "       '368 Morris Ports Apt. 735\\nNew Lisaville, GA 34271-8632',\n",
       "       '16338 Scott Corner Suite 727\\nWest Alexandra, AR 54429',\n",
       "       'Unit 1609 Box 3480\\nDPO AA 95185',\n",
       "       '486 Adams Hills\\nNorth Walter, MS 18124',\n",
       "       '69279 Stewart Mountains\\nSouth Pamela, KS 22541-3414',\n",
       "       '0128 Sampson Loop Suite 943\\nHoffmanton, MO 02122',\n",
       "       '89301 Kylie Crossroad\\nPetersonberg, MH 23834',\n",
       "       '0554 Powers Curve\\nNathanchester, FL 06878-6336',\n",
       "       '770 Katie Walk Apt. 585\\nPort David, MN 52850',\n",
       "       '0506 Pitts Forks\\nWoodsbury, AL 98082-8186',\n",
       "       '92028 Thomas Mountains Suite 044\\nNew Matthew, MI 02429-0994',\n",
       "       '8456 Joseph Locks Suite 926\\nChristopherport, TN 57784',\n",
       "       '64460 Morris Fords\\nGonzalesmouth, MI 40832',\n",
       "       '3933 Brooke Point\\nJohnsonburgh, DE 22659-3488',\n",
       "       '313 Lisa Loop Apt. 543\\nNorth Jenniferchester, MN 58819',\n",
       "       '62106 Nathan Mountain Suite 505\\nNorth Matthewborough, AZ 32092-6122',\n",
       "       '39209 Cooper Neck Apt. 541\\nTylermouth, ME 94450',\n",
       "       '87270 Garrett Cliffs Suite 361\\nBrooksberg, MO 26555-2502',\n",
       "       '309 Singleton Hollow\\nMatthewhaven, NJ 68776-7477',\n",
       "       '186 Anthony Route\\nGordonview, AS 78120-4633',\n",
       "       '00615 Tracy Islands\\nNew Marcfort, MO 87297-7431',\n",
       "       '96480 White Lane Suite 521\\nPattersonhaven, OR 39409-4561',\n",
       "       '14064 Frazier Hills Apt. 176\\nAmyborough, MP 77858-0018',\n",
       "       '02136 White Grove Suite 418\\nMarytown, DE 70033',\n",
       "       '6586 Reginald Crest Apt. 061\\nNorth Josephfort, NM 55275',\n",
       "       '2749 Cunningham Flat Apt. 838\\nDerekberg, OH 45288',\n",
       "       '33940 Craig Throughway Apt. 334\\nMartinview, IL 62015-0314',\n",
       "       '355 Villegas Isle Apt. 070\\nWest Jenniferview, NM 26775-4339',\n",
       "       '439 Todd Summit Apt. 478\\nMooreland, AR 31655',\n",
       "       '30700 Justin Ports\\nPort David, PA 52171-5921',\n",
       "       '291 Stephen Glens Apt. 532\\nJacquelineton, NJ 53606-5656',\n",
       "       '04290 Barron Square\\nLaurenmouth, AS 79917-9544',\n",
       "       '0013 Andre Field\\nWhitebury, AZ 68447-6306',\n",
       "       '50718 Timothy Light\\nGarciaport, SC 60266-6696',\n",
       "       '53964 Weaver Brook Suite 861\\nStevensonshire, NY 18128',\n",
       "       '506 Allison Cove Apt. 766\\nWeeksstad, AS 71308',\n",
       "       '2559 Harris Pines Apt. 514\\nMichaelshire, ME 21753-8834',\n",
       "       '3802 Veronica Causeway\\nEast Patrickfurt, DC 84522',\n",
       "       '592 Villanueva Village\\nWoodsstad, AK 20530',\n",
       "       'PSC 4427, Box 6116\\nAPO AP 87584-5187',\n",
       "       '19270 Velasquez Coves\\nBoylechester, AZ 51480',\n",
       "       'USNS Jacobs\\nFPO AE 71507-1312',\n",
       "       '001 Estrada Union\\nLewismouth, TN 47360',\n",
       "       '86268 Davis Corner\\nNorth Danielview, CT 59551-9382',\n",
       "       '209 Andrew Viaduct\\nPort Anna, OR 01627-8037',\n",
       "       '19704 Kaitlin Flat\\nWest Andrewtown, VI 38642',\n",
       "       '0508 Terrance Cliff\\nRebekahtown, NC 48724-8308',\n",
       "       '2082 Christopher Place Apt. 081\\nCynthiahaven, HI 99393-8910',\n",
       "       '584 Patterson Falls\\nWest Alicia, DE 45751',\n",
       "       '11430 Meza Green Suite 037\\nMartinezborough, FL 40624-8726',\n",
       "       '210 Johnson Street Suite 717\\nNew Bethanyborough, MO 84817',\n",
       "       '2971 Angela Island\\nLake Timothychester, NE 48734-6685',\n",
       "       '994 Joel Highway Suite 216\\nNew Jessicafort, UT 14179',\n",
       "       '928 Bailey Road\\nEast Mary, DE 11678-5634',\n",
       "       '31927 Jill Mountain\\nSouth Jessica, MN 63418',\n",
       "       '1549 Walker Passage Apt. 463\\nWest Calvin, AZ 03144',\n",
       "       '4547 Stafford Throughway Apt. 178\\nNorth Patrick, MD 60768-4837',\n",
       "       '54560 Thompson Creek Apt. 029\\nNew Brianville, FL 84430-8588',\n",
       "       '5086 Morales Islands Apt. 099\\nNew Patricia, IL 78823',\n",
       "       '02393 Baker Falls\\nNew Georgeport, ND 36338-5110',\n",
       "       '1693 Gary Mission Suite 479\\nLake Kelly, MO 68205',\n",
       "       '4929 Michelle Grove\\nLake Alexis, MT 92147-1660',\n",
       "       '983 Ross Glen\\nWest Jessica, NJ 42860-5757',\n",
       "       '685 Sexton Ranch Suite 125\\nLake Robertshire, NE 04469-3024',\n",
       "       '4968 Bennett Manors\\nRogerschester, IL 81579-8333',\n",
       "       '61502 Parker Vista Apt. 363\\nJonesshire, GU 33532',\n",
       "       '257 Hunt Manors\\nSouth Charlottefort, CT 15033',\n",
       "       '83995 Owens Course Apt. 747\\nSouth Jennifer, NJ 29942',\n",
       "       '8055 Robinson Brooks Apt. 657\\nWalterview, KY 83019',\n",
       "       'Unit 1475 Box 4215\\nDPO AE 39546-5591',\n",
       "       'Unit 5934 Box 9748\\nDPO AA 37361-3043',\n",
       "       '31309 Stacey Keys Apt. 979\\nSouth Jason, KS 35357',\n",
       "       '1812 Sandra Shoal Apt. 350\\nAmandamouth, SC 87794-1628',\n",
       "       'PSC 1893, Box 7023\\nAPO AA 73445',\n",
       "       '381 Ashley Locks Suite 366\\nNorth Migueltown, TX 09795-0494',\n",
       "       '189 Crawford Hill Apt. 746\\nNew Madison, WV 14108-4333',\n",
       "       'Unit 1743 Box 8085\\nDPO AE 47693-8164',\n",
       "       '57993 Jennifer Unions Suite 685\\nEmilyville, OK 53366-2375',\n",
       "       '73098 Ronald Port\\nCliffordborough, MO 37479-9244',\n",
       "       '5292 Melanie Crescent Apt. 064\\nFischerborough, NV 85721-5045',\n",
       "       '24725 Neal Lock\\nCynthiaville, NY 51578',\n",
       "       '1502 Gonzalez Throughway\\nKathrynchester, FM 86014-7194',\n",
       "       '35466 Tommy Stream\\nPort Daniellemouth, KS 68863-6330',\n",
       "       '76666 Kathy Locks\\nPort Susan, ME 64335',\n",
       "       '33213 Tanner Knolls Apt. 519\\nWhiteborough, OR 37119-7790',\n",
       "       'Unit 3998 Box 4348\\nDPO AA 37629',\n",
       "       '2100 Austin Camp Apt. 943\\nAnthonymouth, WV 24243-3781',\n",
       "       '967 Chloe Springs Suite 554\\nLake Ashley, GA 03230',\n",
       "       '42644 Helen Keys Apt. 103\\nJessicahaven, KS 89406-1960',\n",
       "       '02342 Melissa Islands\\nSmithhaven, KS 68335',\n",
       "       '97262 Brian Skyway\\nLake Marissa, GU 96859',\n",
       "       '7875 Landry Road Apt. 947\\nBrownshire, NC 10074-7735',\n",
       "       '949 Tapia Viaduct\\nMartinezfurt, CT 79271-8205',\n",
       "       '50639 Sarah Isle Apt. 268\\nYangmouth, MO 05540',\n",
       "       '51173 Burton Wall Apt. 417\\nPrestonville, NY 37002',\n",
       "       '426 Scott Radial Apt. 065\\nAbigailstad, MS 16590-2222',\n",
       "       '3874 Harper Plaza\\nNorth Nancy, ME 96802-9462',\n",
       "       'Unit 4742 Box 9517\\nDPO AE 67219-3123',\n",
       "       '845 Colleen Ways\\nLake Matthewview, VT 65340-3159',\n",
       "       'Unit 0373 Box 8981\\nDPO AA 89902',\n",
       "       'PSC 4856, Box 1297\\nAPO AA 17032-7944',\n",
       "       '272 Frederick Lodge\\nEast Andrew, FL 07414',\n",
       "       '9985 Wolf Pass\\nBrandimouth, CA 63346',\n",
       "       'PSC 1790, Box 8872\\nAPO AE 01821-4769',\n",
       "       '4502 Jennifer Prairie Suite 029\\nLake Jesse, LA 02328-3633',\n",
       "       '4307 Nicholas Drive Apt. 259\\nRamirezberg, AS 59832',\n",
       "       '5855 Gross Burgs Suite 169\\nBallland, AS 98525',\n",
       "       '80500 Mary Corners Apt. 225\\nWallsville, ME 80526',\n",
       "       '344 Jessica Stravenue\\nNew Brian, MA 04730-6761',\n",
       "       '85181 Christian Courts Suite 758\\nLarryfurt, MS 38722-6766',\n",
       "       '543 Reynolds Burg\\nMelindaberg, KY 46631',\n",
       "       '549 Anna Avenue\\nPort Laura, CA 76209-9339',\n",
       "       '214 Obrien Lakes Suite 572\\nSouth Jeremy, KS 52867-7617',\n",
       "       '5661 Grant Centers\\nStevensfurt, CT 53959',\n",
       "       '768 Riley Pine Apt. 624\\nKellymouth, OK 98992-3108',\n",
       "       '503 Adams Pines Apt. 638\\nNorth Ashleyside, AZ 34687-6128',\n",
       "       '07813 Randy Point\\nLake Thomasberg, MO 06013-9920',\n",
       "       '38678 Sean Drive Suite 293\\nKarentown, IA 78306-2717',\n",
       "       '6820 Erica Vista Apt. 418\\nBrightside, IA 50639',\n",
       "       '9909 Hoffman Ranch Suite 195\\nScotthaven, SC 53575',\n",
       "       '513 Moore Crescent Apt. 416\\nAmandaberg, GU 03655-2219',\n",
       "       '7446 Mary Ferry\\nLake Sherryfurt, GA 49066-0207',\n",
       "       '64147 Alexander Station Apt. 474\\nEast Jasonview, MN 83788',\n",
       "       '70128 Zimmerman Overpass\\nRobertsshire, VA 59860',\n",
       "       '01242 Stephanie Ways Suite 003\\nChurchville, MO 35617',\n",
       "       '354 Sanchez Wall Suite 884\\nJuliabury, VI 39735',\n",
       "       '4483 Jones Motorway Suite 872\\nLake Jamiefurt, UT 75292',\n",
       "       '172 Owen Divide Suite 497\\nWest Richard, CA 19320',\n",
       "       '0787 Andrews Ranch Apt. 633\\nSouth Chadburgh, TN 56128',\n",
       "       '680 Jennifer Lodge Apt. 808\\nBrendachester, TX 05000-5873',\n",
       "       '49791 Rachel Heights Apt. 898\\nEast Drewborough, OR 55919-9528'],\n",
       "      dtype=object)"
      ]
     },
     "execution_count": 14,
     "metadata": {},
     "output_type": "execute_result"
    }
   ],
   "source": [
    "df['Address'].unique()"
   ]
  },
  {
   "cell_type": "code",
   "execution_count": 15,
   "id": "3857e587",
   "metadata": {},
   "outputs": [],
   "source": [
    "#df = df.drop(['Avatar','Address','Email'], axis = 1)\n"
   ]
  },
  {
   "cell_type": "code",
   "execution_count": 16,
   "id": "17f5235c",
   "metadata": {},
   "outputs": [
    {
     "data": {
      "text/html": [
       "<div>\n",
       "<style scoped>\n",
       "    .dataframe tbody tr th:only-of-type {\n",
       "        vertical-align: middle;\n",
       "    }\n",
       "\n",
       "    .dataframe tbody tr th {\n",
       "        vertical-align: top;\n",
       "    }\n",
       "\n",
       "    .dataframe thead th {\n",
       "        text-align: right;\n",
       "    }\n",
       "</style>\n",
       "<table border=\"1\" class=\"dataframe\">\n",
       "  <thead>\n",
       "    <tr style=\"text-align: right;\">\n",
       "      <th></th>\n",
       "      <th>Email</th>\n",
       "      <th>Address</th>\n",
       "      <th>Avatar</th>\n",
       "      <th>Avg. Session Length</th>\n",
       "      <th>Time on App</th>\n",
       "      <th>Time on Website</th>\n",
       "      <th>Length of Membership</th>\n",
       "      <th>Yearly Amount Spent</th>\n",
       "    </tr>\n",
       "  </thead>\n",
       "  <tbody>\n",
       "    <tr>\n",
       "      <th>0</th>\n",
       "      <td>mstephenson@fernandez.com</td>\n",
       "      <td>835 Frank Tunnel\\nWrightmouth, MI 82180-9605</td>\n",
       "      <td>Violet</td>\n",
       "      <td>34.497268</td>\n",
       "      <td>12.655651</td>\n",
       "      <td>39.577668</td>\n",
       "      <td>4.082621</td>\n",
       "      <td>587.951054</td>\n",
       "    </tr>\n",
       "    <tr>\n",
       "      <th>1</th>\n",
       "      <td>hduke@hotmail.com</td>\n",
       "      <td>4547 Archer Common\\nDiazchester, CA 06566-8576</td>\n",
       "      <td>DarkGreen</td>\n",
       "      <td>31.926272</td>\n",
       "      <td>11.109461</td>\n",
       "      <td>37.268959</td>\n",
       "      <td>2.664034</td>\n",
       "      <td>392.204933</td>\n",
       "    </tr>\n",
       "    <tr>\n",
       "      <th>2</th>\n",
       "      <td>pallen@yahoo.com</td>\n",
       "      <td>24645 Valerie Unions Suite 582\\nCobbborough, D...</td>\n",
       "      <td>Bisque</td>\n",
       "      <td>33.000915</td>\n",
       "      <td>11.330278</td>\n",
       "      <td>37.110597</td>\n",
       "      <td>4.104543</td>\n",
       "      <td>487.547505</td>\n",
       "    </tr>\n",
       "    <tr>\n",
       "      <th>3</th>\n",
       "      <td>riverarebecca@gmail.com</td>\n",
       "      <td>1414 David Throughway\\nPort Jason, OH 22070-1220</td>\n",
       "      <td>SaddleBrown</td>\n",
       "      <td>34.305557</td>\n",
       "      <td>13.717514</td>\n",
       "      <td>36.721283</td>\n",
       "      <td>3.120179</td>\n",
       "      <td>581.852344</td>\n",
       "    </tr>\n",
       "    <tr>\n",
       "      <th>4</th>\n",
       "      <td>mstephens@davidson-herman.com</td>\n",
       "      <td>14023 Rodriguez Passage\\nPort Jacobville, PR 3...</td>\n",
       "      <td>MediumAquaMarine</td>\n",
       "      <td>33.330673</td>\n",
       "      <td>12.795189</td>\n",
       "      <td>37.536653</td>\n",
       "      <td>4.446308</td>\n",
       "      <td>599.406092</td>\n",
       "    </tr>\n",
       "  </tbody>\n",
       "</table>\n",
       "</div>"
      ],
      "text/plain": [
       "                           Email  \\\n",
       "0      mstephenson@fernandez.com   \n",
       "1              hduke@hotmail.com   \n",
       "2               pallen@yahoo.com   \n",
       "3        riverarebecca@gmail.com   \n",
       "4  mstephens@davidson-herman.com   \n",
       "\n",
       "                                             Address            Avatar  \\\n",
       "0       835 Frank Tunnel\\nWrightmouth, MI 82180-9605            Violet   \n",
       "1     4547 Archer Common\\nDiazchester, CA 06566-8576         DarkGreen   \n",
       "2  24645 Valerie Unions Suite 582\\nCobbborough, D...            Bisque   \n",
       "3   1414 David Throughway\\nPort Jason, OH 22070-1220       SaddleBrown   \n",
       "4  14023 Rodriguez Passage\\nPort Jacobville, PR 3...  MediumAquaMarine   \n",
       "\n",
       "   Avg. Session Length  Time on App  Time on Website  Length of Membership  \\\n",
       "0            34.497268    12.655651        39.577668              4.082621   \n",
       "1            31.926272    11.109461        37.268959              2.664034   \n",
       "2            33.000915    11.330278        37.110597              4.104543   \n",
       "3            34.305557    13.717514        36.721283              3.120179   \n",
       "4            33.330673    12.795189        37.536653              4.446308   \n",
       "\n",
       "   Yearly Amount Spent  \n",
       "0           587.951054  \n",
       "1           392.204933  \n",
       "2           487.547505  \n",
       "3           581.852344  \n",
       "4           599.406092  "
      ]
     },
     "execution_count": 16,
     "metadata": {},
     "output_type": "execute_result"
    }
   ],
   "source": [
    "df.head()"
   ]
  },
  {
   "cell_type": "code",
   "execution_count": 17,
   "id": "60eab207",
   "metadata": {},
   "outputs": [],
   "source": [
    "# Customers with the max time and spending\n",
    "# Customers with the min time and spending\n",
    "# States with the max time and spending\n",
    "# Differences between customers over spending time and money"
   ]
  },
  {
   "cell_type": "code",
   "execution_count": 18,
   "id": "976144c8",
   "metadata": {},
   "outputs": [
    {
     "name": "stdout",
     "output_type": "stream",
     "text": [
      "Customer with max Time on Website: davisrobert@hicks-smith.com\n",
      "Customer with max Time on App: kyang@diaz.org\n",
      "Customer with max Yearly Amount Spent: kyang@diaz.org\n"
     ]
    }
   ],
   "source": [
    "cols = ['Time on Website', 'Time on App', 'Yearly Amount Spent']\n",
    "for col in cols:\n",
    "    email = df.loc[df[col].idxmax(), 'Email']\n",
    "    print(f\"Customer with max {col}: {email}\")\n"
   ]
  },
  {
   "cell_type": "code",
   "execution_count": 19,
   "id": "46ef0399",
   "metadata": {},
   "outputs": [
    {
     "name": "stdout",
     "output_type": "stream",
     "text": [
      "Customer with min Time on Website: asilva@yahoo.com\n",
      "Customer with min Time on App: dblair@gmail.com\n",
      "Customer with min Yearly Amount Spent: alexandra26@summers-davis.com\n"
     ]
    }
   ],
   "source": [
    "cols = ['Time on Website', 'Time on App', 'Yearly Amount Spent']\n",
    "for col in cols:\n",
    "    email = df.loc[df[col].idxmin(), 'Email']\n",
    "    print(f\"Customer with min {col}: {email}\")\n"
   ]
  },
  {
   "cell_type": "code",
   "execution_count": 20,
   "id": "9d36df8d",
   "metadata": {},
   "outputs": [],
   "source": [
    "import warnings\n",
    "from sklearn.preprocessing import StandardScaler\n",
    "from sklearn import metrics\n",
    "from sklearn.linear_model import LinearRegression\n",
    "from sklearn.preprocessing import MinMaxScaler\n"
   ]
  },
  {
   "cell_type": "code",
   "execution_count": 21,
   "id": "79c65091",
   "metadata": {},
   "outputs": [],
   "source": [
    "%matplotlib inline\n",
    "pd.set_option('display.max_rows',20)\n",
    "warnings.filterwarnings('ignore')"
   ]
  },
  {
   "cell_type": "code",
   "execution_count": 22,
   "id": "c08515ed",
   "metadata": {},
   "outputs": [
    {
     "data": {
      "text/plain": [
       "<Axes: >"
      ]
     },
     "execution_count": 22,
     "metadata": {},
     "output_type": "execute_result"
    },
    {
     "data": {
      "image/png": "[encoded data removed]",
      "text/plain": [
       "<Figure size 640x480 with 2 Axes>"
      ]
     },
     "metadata": {},
     "output_type": "display_data"
    }
   ],
   "source": [
    "sns.heatmap(df[df.columns[3:]].corr(), cmap=\"crest\", annot= True)"
   ]
  },
  {
   "cell_type": "code",
   "execution_count": 23,
   "id": "8aa9e43a",
   "metadata": {},
   "outputs": [
    {
     "data": {
      "image/png": "[encoded data removed]",
      "text/plain": [
       "<Figure size 1000x500 with 6 Axes>"
      ]
     },
     "metadata": {},
     "output_type": "display_data"
    }
   ],
   "source": [
    "fig, axes =plt.subplots(nrows=2, ncols=3,figsize=(10,5), sharey=True)\n",
    "for index,column in enumerate(df.columns[3:]):\n",
    "    sns.boxplot(data=df,x=column,ax=axes[int(index/3),index%3])\n",
    "    \n",
    "plt.tight_layout()"
   ]
  },
  {
   "cell_type": "code",
   "execution_count": 24,
   "id": "f34d2d33",
   "metadata": {},
   "outputs": [
    {
     "data": {
      "image/png": "[encoded data removed]",
      "text/plain": [
       "<Figure size 1000x500 with 6 Axes>"
      ]
     },
     "metadata": {},
     "output_type": "display_data"
    }
   ],
   "source": [
    "fig, axes =plt.subplots(nrows=2, ncols=3,figsize=(10,5), sharey=True)\n",
    "for index,column in enumerate(df.columns[3:]):\n",
    "    sns.histplot(data=df,x=column,ax=axes[int(index/3),index%3],kde=True)\n",
    "    \n",
    "plt.tight_layout()"
   ]
  },
  {
   "cell_type": "code",
   "execution_count": 25,
   "id": "9afa7c5e",
   "metadata": {},
   "outputs": [
    {
     "name": "stdout",
     "output_type": "stream",
     "text": [
      "Null values:0\n",
      "Null values:0\n"
     ]
    },
    {
     "data": {
      "text/plain": [
       "<Axes: >"
      ]
     },
     "execution_count": 25,
     "metadata": {},
     "output_type": "execute_result"
    },
    {
     "data": {
      "image/png": "[encoded data removed]",
      "text/plain": [
       "<Figure size 640x480 with 2 Axes>"
      ]
     },
     "metadata": {},
     "output_type": "display_data"
    }
   ],
   "source": [
    "print(f\"Null values:{df.isna().sum(axis=1).sum()}\")\n",
    "print(f\"Null values:{df.isnull().sum(axis=1).sum()}\")\n",
    "sns.heatmap(df.isnull()*df.isna(),cmap=\"crest\")"
   ]
  },
  {
   "cell_type": "code",
   "execution_count": 26,
   "id": "41eac314",
   "metadata": {},
   "outputs": [
    {
     "data": {
      "text/plain": [
       "0"
      ]
     },
     "execution_count": 26,
     "metadata": {},
     "output_type": "execute_result"
    }
   ],
   "source": [
    "df.duplicated().sum()"
   ]
  },
  {
   "cell_type": "code",
   "execution_count": 27,
   "id": "6f1b0809",
   "metadata": {},
   "outputs": [
    {
     "data": {
      "text/html": [
       "<div>\n",
       "<style scoped>\n",
       "    .dataframe tbody tr th:only-of-type {\n",
       "        vertical-align: middle;\n",
       "    }\n",
       "\n",
       "    .dataframe tbody tr th {\n",
       "        vertical-align: top;\n",
       "    }\n",
       "\n",
       "    .dataframe thead th {\n",
       "        text-align: right;\n",
       "    }\n",
       "</style>\n",
       "<table border=\"1\" class=\"dataframe\">\n",
       "  <thead>\n",
       "    <tr style=\"text-align: right;\">\n",
       "      <th></th>\n",
       "      <th>Email</th>\n",
       "      <th>Address</th>\n",
       "      <th>Avatar</th>\n",
       "      <th>Avg. Session Length</th>\n",
       "      <th>Time on App</th>\n",
       "      <th>Time on Website</th>\n",
       "      <th>Length of Membership</th>\n",
       "      <th>Yearly Amount Spent</th>\n",
       "      <th>Total Time</th>\n",
       "      <th>State</th>\n",
       "      <th>Email Provider</th>\n",
       "    </tr>\n",
       "  </thead>\n",
       "  <tbody>\n",
       "    <tr>\n",
       "      <th>0</th>\n",
       "      <td>mstephenson@fernandez.com</td>\n",
       "      <td>835 Frank Tunnel\\nWrightmouth, MI 82180-9605</td>\n",
       "      <td>Violet</td>\n",
       "      <td>34.497268</td>\n",
       "      <td>12.655651</td>\n",
       "      <td>39.577668</td>\n",
       "      <td>4.082621</td>\n",
       "      <td>587.951054</td>\n",
       "      <td>52.233319</td>\n",
       "      <td>MI</td>\n",
       "      <td>fernandez.com</td>\n",
       "    </tr>\n",
       "    <tr>\n",
       "      <th>1</th>\n",
       "      <td>hduke@hotmail.com</td>\n",
       "      <td>4547 Archer Common\\nDiazchester, CA 06566-8576</td>\n",
       "      <td>DarkGreen</td>\n",
       "      <td>31.926272</td>\n",
       "      <td>11.109461</td>\n",
       "      <td>37.268959</td>\n",
       "      <td>2.664034</td>\n",
       "      <td>392.204933</td>\n",
       "      <td>48.378420</td>\n",
       "      <td>CA</td>\n",
       "      <td>hotmail.com</td>\n",
       "    </tr>\n",
       "    <tr>\n",
       "      <th>2</th>\n",
       "      <td>pallen@yahoo.com</td>\n",
       "      <td>24645 Valerie Unions Suite 582\\nCobbborough, D...</td>\n",
       "      <td>Bisque</td>\n",
       "      <td>33.000915</td>\n",
       "      <td>11.330278</td>\n",
       "      <td>37.110597</td>\n",
       "      <td>4.104543</td>\n",
       "      <td>487.547505</td>\n",
       "      <td>48.440875</td>\n",
       "      <td>DC</td>\n",
       "      <td>yahoo.com</td>\n",
       "    </tr>\n",
       "    <tr>\n",
       "      <th>3</th>\n",
       "      <td>riverarebecca@gmail.com</td>\n",
       "      <td>1414 David Throughway\\nPort Jason, OH 22070-1220</td>\n",
       "      <td>SaddleBrown</td>\n",
       "      <td>34.305557</td>\n",
       "      <td>13.717514</td>\n",
       "      <td>36.721283</td>\n",
       "      <td>3.120179</td>\n",
       "      <td>581.852344</td>\n",
       "      <td>50.438796</td>\n",
       "      <td>OH</td>\n",
       "      <td>gmail.com</td>\n",
       "    </tr>\n",
       "    <tr>\n",
       "      <th>4</th>\n",
       "      <td>mstephens@davidson-herman.com</td>\n",
       "      <td>14023 Rodriguez Passage\\nPort Jacobville, PR 3...</td>\n",
       "      <td>MediumAquaMarine</td>\n",
       "      <td>33.330673</td>\n",
       "      <td>12.795189</td>\n",
       "      <td>37.536653</td>\n",
       "      <td>4.446308</td>\n",
       "      <td>599.406092</td>\n",
       "      <td>50.331842</td>\n",
       "      <td>PR</td>\n",
       "      <td>davidson-herman.com</td>\n",
       "    </tr>\n",
       "    <tr>\n",
       "      <th>...</th>\n",
       "      <td>...</td>\n",
       "      <td>...</td>\n",
       "      <td>...</td>\n",
       "      <td>...</td>\n",
       "      <td>...</td>\n",
       "      <td>...</td>\n",
       "      <td>...</td>\n",
       "      <td>...</td>\n",
       "      <td>...</td>\n",
       "      <td>...</td>\n",
       "      <td>...</td>\n",
       "    </tr>\n",
       "    <tr>\n",
       "      <th>495</th>\n",
       "      <td>lewisjessica@craig-evans.com</td>\n",
       "      <td>4483 Jones Motorway Suite 872\\nLake Jamiefurt,...</td>\n",
       "      <td>Tan</td>\n",
       "      <td>33.237660</td>\n",
       "      <td>13.566160</td>\n",
       "      <td>36.417985</td>\n",
       "      <td>3.746573</td>\n",
       "      <td>573.847438</td>\n",
       "      <td>49.984144</td>\n",
       "      <td>UT</td>\n",
       "      <td>craig-evans.com</td>\n",
       "    </tr>\n",
       "    <tr>\n",
       "      <th>496</th>\n",
       "      <td>katrina56@gmail.com</td>\n",
       "      <td>172 Owen Divide Suite 497\\nWest Richard, CA 19320</td>\n",
       "      <td>PaleVioletRed</td>\n",
       "      <td>34.702529</td>\n",
       "      <td>11.695736</td>\n",
       "      <td>37.190268</td>\n",
       "      <td>3.576526</td>\n",
       "      <td>529.049004</td>\n",
       "      <td>48.886004</td>\n",
       "      <td>CA</td>\n",
       "      <td>gmail.com</td>\n",
       "    </tr>\n",
       "    <tr>\n",
       "      <th>497</th>\n",
       "      <td>dale88@hotmail.com</td>\n",
       "      <td>0787 Andrews Ranch Apt. 633\\nSouth Chadburgh, ...</td>\n",
       "      <td>Cornsilk</td>\n",
       "      <td>32.646777</td>\n",
       "      <td>11.499409</td>\n",
       "      <td>38.332576</td>\n",
       "      <td>4.958264</td>\n",
       "      <td>551.620145</td>\n",
       "      <td>49.831985</td>\n",
       "      <td>TN</td>\n",
       "      <td>hotmail.com</td>\n",
       "    </tr>\n",
       "    <tr>\n",
       "      <th>498</th>\n",
       "      <td>cwilson@hotmail.com</td>\n",
       "      <td>680 Jennifer Lodge Apt. 808\\nBrendachester, TX...</td>\n",
       "      <td>Teal</td>\n",
       "      <td>33.322501</td>\n",
       "      <td>12.391423</td>\n",
       "      <td>36.840086</td>\n",
       "      <td>2.336485</td>\n",
       "      <td>456.469510</td>\n",
       "      <td>49.231509</td>\n",
       "      <td>TX</td>\n",
       "      <td>hotmail.com</td>\n",
       "    </tr>\n",
       "    <tr>\n",
       "      <th>499</th>\n",
       "      <td>hannahwilson@davidson.com</td>\n",
       "      <td>49791 Rachel Heights Apt. 898\\nEast Drewboroug...</td>\n",
       "      <td>DarkMagenta</td>\n",
       "      <td>33.715981</td>\n",
       "      <td>12.418808</td>\n",
       "      <td>35.771016</td>\n",
       "      <td>2.735160</td>\n",
       "      <td>497.778642</td>\n",
       "      <td>48.189825</td>\n",
       "      <td>OR</td>\n",
       "      <td>davidson.com</td>\n",
       "    </tr>\n",
       "  </tbody>\n",
       "</table>\n",
       "<p>500 rows × 11 columns</p>\n",
       "</div>"
      ],
      "text/plain": [
       "                             Email  \\\n",
       "0        mstephenson@fernandez.com   \n",
       "1                hduke@hotmail.com   \n",
       "2                 pallen@yahoo.com   \n",
       "3          riverarebecca@gmail.com   \n",
       "4    mstephens@davidson-herman.com   \n",
       "..                             ...   \n",
       "495   lewisjessica@craig-evans.com   \n",
       "496            katrina56@gmail.com   \n",
       "497             dale88@hotmail.com   \n",
       "498            cwilson@hotmail.com   \n",
       "499      hannahwilson@davidson.com   \n",
       "\n",
       "                                               Address            Avatar  \\\n",
       "0         835 Frank Tunnel\\nWrightmouth, MI 82180-9605            Violet   \n",
       "1       4547 Archer Common\\nDiazchester, CA 06566-8576         DarkGreen   \n",
       "2    24645 Valerie Unions Suite 582\\nCobbborough, D...            Bisque   \n",
       "3     1414 David Throughway\\nPort Jason, OH 22070-1220       SaddleBrown   \n",
       "4    14023 Rodriguez Passage\\nPort Jacobville, PR 3...  MediumAquaMarine   \n",
       "..                                                 ...               ...   \n",
       "495  4483 Jones Motorway Suite 872\\nLake Jamiefurt,...               Tan   \n",
       "496  172 Owen Divide Suite 497\\nWest Richard, CA 19320     PaleVioletRed   \n",
       "497  0787 Andrews Ranch Apt. 633\\nSouth Chadburgh, ...          Cornsilk   \n",
       "498  680 Jennifer Lodge Apt. 808\\nBrendachester, TX...              Teal   \n",
       "499  49791 Rachel Heights Apt. 898\\nEast Drewboroug...       DarkMagenta   \n",
       "\n",
       "     Avg. Session Length  Time on App  Time on Website  Length of Membership  \\\n",
       "0              34.497268    12.655651        39.577668              4.082621   \n",
       "1              31.926272    11.109461        37.268959              2.664034   \n",
       "2              33.000915    11.330278        37.110597              4.104543   \n",
       "3              34.305557    13.717514        36.721283              3.120179   \n",
       "4              33.330673    12.795189        37.536653              4.446308   \n",
       "..                   ...          ...              ...                   ...   \n",
       "495            33.237660    13.566160        36.417985              3.746573   \n",
       "496            34.702529    11.695736        37.190268              3.576526   \n",
       "497            32.646777    11.499409        38.332576              4.958264   \n",
       "498            33.322501    12.391423        36.840086              2.336485   \n",
       "499            33.715981    12.418808        35.771016              2.735160   \n",
       "\n",
       "     Yearly Amount Spent  Total Time State       Email Provider  \n",
       "0             587.951054   52.233319    MI        fernandez.com  \n",
       "1             392.204933   48.378420    CA          hotmail.com  \n",
       "2             487.547505   48.440875    DC            yahoo.com  \n",
       "3             581.852344   50.438796    OH            gmail.com  \n",
       "4             599.406092   50.331842    PR  davidson-herman.com  \n",
       "..                   ...         ...   ...                  ...  \n",
       "495           573.847438   49.984144    UT      craig-evans.com  \n",
       "496           529.049004   48.886004    CA            gmail.com  \n",
       "497           551.620145   49.831985    TN          hotmail.com  \n",
       "498           456.469510   49.231509    TX          hotmail.com  \n",
       "499           497.778642   48.189825    OR         davidson.com  \n",
       "\n",
       "[500 rows x 11 columns]"
      ]
     },
     "execution_count": 27,
     "metadata": {},
     "output_type": "execute_result"
    }
   ],
   "source": [
    "df['Total Time']=df['Time on App']+df['Time on Website']\n",
    "df['State']= df['Address'].apply(lambda x:x.split()[-2])\n",
    "df['Email Provider']= df['Email'].apply(lambda x:x.split(\"@\")[1])\n",
    "df"
   ]
  },
  {
   "cell_type": "code",
   "execution_count": 28,
   "id": "5f01e787",
   "metadata": {},
   "outputs": [
    {
     "data": {
      "text/plain": [
       "array(['MI', 'CA', 'DC', 'OH', 'PR', 'MN', 'WV', 'AP', 'SD', 'AA', 'WY',\n",
       "       'MO', 'MP', 'ND', 'GA', 'PW', 'MT', 'KY', 'AE', 'VI', 'TX', 'MS',\n",
       "       'SC', 'WA', 'NJ', 'NH', 'ME', 'ID', 'TN', 'AK', 'DE', 'FM', 'HI',\n",
       "       'KS', 'NC', 'UT', 'AL', 'LA', 'NE', 'OR', 'CT', 'MA', 'IN', 'AZ',\n",
       "       'MH', 'NY', 'CO', 'IA', 'GU', 'AS', 'RI', 'VA', 'MD', 'OK', 'WI',\n",
       "       'VT', 'FL', 'IL', 'NV', 'PA', 'NM', 'AR'], dtype=object)"
      ]
     },
     "execution_count": 28,
     "metadata": {},
     "output_type": "execute_result"
    }
   ],
   "source": [
    "df['State'].unique()"
   ]
  },
  {
   "cell_type": "code",
   "execution_count": 29,
   "id": "f33c5fca",
   "metadata": {},
   "outputs": [
    {
     "data": {
      "text/plain": [
       "State\n",
       "AE    18\n",
       "AA    17\n",
       "DE    13\n",
       "SC    13\n",
       "MO    13\n",
       "      ..\n",
       "OH     5\n",
       "TN     5\n",
       "CT     5\n",
       "WA     4\n",
       "ID     3\n",
       "Name: count, Length: 62, dtype: int64"
      ]
     },
     "execution_count": 29,
     "metadata": {},
     "output_type": "execute_result"
    }
   ],
   "source": [
    "df['State'].value_counts()"
   ]
  },
  {
   "cell_type": "code",
   "execution_count": 30,
   "id": "dc0fd693",
   "metadata": {},
   "outputs": [
    {
     "data": {
      "text/plain": [
       "Email Provider\n",
       "gmail.com              87\n",
       "hotmail.com            87\n",
       "yahoo.com              76\n",
       "jackson.com             2\n",
       "barber.com              2\n",
       "                       ..\n",
       "salinas.biz             1\n",
       "carson-hansen.com       1\n",
       "scott.com               1\n",
       "bennett-branch.info     1\n",
       "davidson.com            1\n",
       "Name: count, Length: 244, dtype: int64"
      ]
     },
     "execution_count": 30,
     "metadata": {},
     "output_type": "execute_result"
    }
   ],
   "source": [
    "df['Email Provider'].value_counts()"
   ]
  },
  {
   "cell_type": "code",
   "execution_count": 31,
   "id": "bccb3f40",
   "metadata": {},
   "outputs": [
    {
     "data": {
      "text/plain": [
       "Avg. Session Length            nathan86@hotmail.com\n",
       "Time on App                          kyang@diaz.org\n",
       "Time on Website         davisrobert@hicks-smith.com\n",
       "Length of Membership               asilva@yahoo.com\n",
       "Yearly Amount Spent                  kyang@diaz.org\n",
       "Total Time                       pkline@hotmail.com\n",
       "dtype: object"
      ]
     },
     "execution_count": 31,
     "metadata": {},
     "output_type": "execute_result"
    }
   ],
   "source": [
    "#customer with max time and spending\n",
    "s= df.select_dtypes(np.number).idxmax()\n",
    "pd.Series(data=df.loc[s]['Email'].values,index=s.index)"
   ]
  },
  {
   "cell_type": "code",
   "execution_count": 32,
   "id": "b1d46945",
   "metadata": {
    "scrolled": true
   },
   "outputs": [
    {
     "data": {
      "text/plain": [
       "Avg. Session Length                 knelson@gmail.com\n",
       "Time on App                          dblair@gmail.com\n",
       "Time on Website                      asilva@yahoo.com\n",
       "Length of Membership           sharongraves@yahoo.com\n",
       "Yearly Amount Spent     alexandra26@summers-davis.com\n",
       "Total Time                           dblair@gmail.com\n",
       "dtype: object"
      ]
     },
     "execution_count": 32,
     "metadata": {},
     "output_type": "execute_result"
    }
   ],
   "source": [
    "#customer with min time and spending\n",
    "s= df.select_dtypes(np.number).idxmin()\n",
    "pd.Series(data=df.loc[s]['Email'].values,index=s.index)"
   ]
  },
  {
   "cell_type": "code",
   "execution_count": 33,
   "id": "71cb0028",
   "metadata": {},
   "outputs": [],
   "source": [
    "#df.groupby(by='State').sum().idxmax()\n",
    "\n",
    "\n"
   ]
  },
  {
   "cell_type": "code",
   "execution_count": 34,
   "id": "002f87a5",
   "metadata": {},
   "outputs": [
    {
     "data": {
      "text/plain": [
       "Avg. Session Length     AE\n",
       "Time on App             AE\n",
       "Time on Website         AE\n",
       "Length of Membership    AE\n",
       "Yearly Amount Spent     AE\n",
       "Total Time              AE\n",
       "dtype: object"
      ]
     },
     "execution_count": 34,
     "metadata": {},
     "output_type": "execute_result"
    }
   ],
   "source": [
    "grouped = df.groupby('State').sum()\n",
    "numeric_grouped = grouped.select_dtypes(include='number')\n",
    "numeric_grouped.idxmax()\n"
   ]
  },
  {
   "cell_type": "code",
   "execution_count": 35,
   "id": "aa7f93e4",
   "metadata": {},
   "outputs": [
    {
     "data": {
      "text/plain": [
       "Avg. Session Length      0.992563\n",
       "Time on App              0.994216\n",
       "Time on Website          1.010489\n",
       "Length of Membership     0.999278\n",
       "Yearly Amount Spent     79.314782\n",
       "Total Time               1.474820\n",
       "Name: std, dtype: float64"
      ]
     },
     "execution_count": 35,
     "metadata": {},
     "output_type": "execute_result"
    }
   ],
   "source": [
    "df.describe().loc['std',:]"
   ]
  },
  {
   "cell_type": "code",
   "execution_count": 36,
   "id": "3b624ffb",
   "metadata": {},
   "outputs": [
    {
     "data": {
      "text/plain": [
       "Avg. Session Length      33.053194\n",
       "Time on App              12.052488\n",
       "Time on Website          37.060445\n",
       "Length of Membership      3.533462\n",
       "Yearly Amount Spent     499.314038\n",
       "Total Time               49.112933\n",
       "Name: mean, dtype: float64"
      ]
     },
     "execution_count": 36,
     "metadata": {},
     "output_type": "execute_result"
    }
   ],
   "source": [
    "df.describe().loc['mean',:]"
   ]
  },
  {
   "cell_type": "code",
   "execution_count": 37,
   "id": "b3948f38",
   "metadata": {},
   "outputs": [
    {
     "data": {
      "text/plain": [
       "Avg. Session Length     500.0\n",
       "Time on App             500.0\n",
       "Time on Website         500.0\n",
       "Length of Membership    500.0\n",
       "Yearly Amount Spent     500.0\n",
       "Total Time              500.0\n",
       "Name: count, dtype: float64"
      ]
     },
     "execution_count": 37,
     "metadata": {},
     "output_type": "execute_result"
    }
   ],
   "source": [
    "df.describe().loc['count',:]"
   ]
  },
  {
   "cell_type": "code",
   "execution_count": 38,
   "id": "750ef595",
   "metadata": {},
   "outputs": [
    {
     "data": {
      "text/plain": [
       "Avg. Session Length      29.532429\n",
       "Time on App               8.508152\n",
       "Time on Website          33.913847\n",
       "Length of Membership      0.269901\n",
       "Yearly Amount Spent     256.670582\n",
       "Total Time               43.970552\n",
       "Name: min, dtype: float64"
      ]
     },
     "execution_count": 38,
     "metadata": {},
     "output_type": "execute_result"
    }
   ],
   "source": [
    "df.describe().loc['min',:]"
   ]
  },
  {
   "cell_type": "code",
   "execution_count": 39,
   "id": "7fe5e370",
   "metadata": {},
   "outputs": [
    {
     "data": {
      "text/plain": [
       "Avg. Session Length      36.139662\n",
       "Time on App              15.126994\n",
       "Time on Website          40.005182\n",
       "Length of Membership      6.922689\n",
       "Yearly Amount Spent     765.518462\n",
       "Total Time               53.112026\n",
       "Name: max, dtype: float64"
      ]
     },
     "execution_count": 39,
     "metadata": {},
     "output_type": "execute_result"
    }
   ],
   "source": [
    "df.describe().loc['max',:]"
   ]
  },
  {
   "cell_type": "code",
   "execution_count": 40,
   "id": "36380468",
   "metadata": {},
   "outputs": [
    {
     "data": {
      "text/plain": [
       "Avg. Session Length      3.002927\n",
       "Time on App              8.249049\n",
       "Time on Website          2.726597\n",
       "Length of Membership    28.280412\n",
       "Yearly Amount Spent     15.884749\n",
       "Total Time               3.002916\n",
       "dtype: float64"
      ]
     },
     "execution_count": 40,
     "metadata": {},
     "output_type": "execute_result"
    }
   ],
   "source": [
    "#diff bw customer over spending time and money:coefficient of variation\n",
    "df.describe().loc['std',:]/df.describe().loc['mean',:]*100"
   ]
  },
  {
   "cell_type": "code",
   "execution_count": 41,
   "id": "52eb419b",
   "metadata": {},
   "outputs": [
    {
     "data": {
      "text/plain": [
       "Avg. Session Length      0.401449\n",
       "Time on App              0.336424\n",
       "Time on Website          0.354953\n",
       "Length of Membership     0.415163\n",
       "Yearly Amount Spent     30.478843\n",
       "Total Time               0.537266\n",
       "dtype: float64"
      ]
     },
     "execution_count": 41,
     "metadata": {},
     "output_type": "execute_result"
    }
   ],
   "source": [
    "#diff bw state over spending time and money\n",
    "df[df.columns[3:-1]].groupby(by='State').mean().std(axis=0)"
   ]
  },
  {
   "cell_type": "code",
   "execution_count": 42,
   "id": "7b2e4998",
   "metadata": {},
   "outputs": [
    {
     "data": {
      "text/plain": [
       "Avg. Session Length      1.215184\n",
       "Time on App              2.787503\n",
       "Time on Website          0.958318\n",
       "Length of Membership    11.758835\n",
       "Yearly Amount Spent      6.102530\n",
       "Total Time               1.094045\n",
       "dtype: float64"
      ]
     },
     "execution_count": 42,
     "metadata": {},
     "output_type": "execute_result"
    }
   ],
   "source": [
    "#diff bw state over spending time and money:coefficient of variation\n",
    "df[df.columns[3:-1]].groupby(by='State').mean().std(axis=0)/df[df.columns[3:-1]].groupby(by='State').mean().mean(axis=0)*100"
   ]
  },
  {
   "cell_type": "code",
   "execution_count": 43,
   "id": "31e254d8",
   "metadata": {},
   "outputs": [
    {
     "data": {
      "text/plain": [
       "State\n",
       "AE    218.279702\n",
       "AA    209.622937\n",
       "MO    156.271069\n",
       "DE    154.928321\n",
       "SC    154.071771\n",
       "Name: Time on App, dtype: float64"
      ]
     },
     "execution_count": 43,
     "metadata": {},
     "output_type": "execute_result"
    }
   ],
   "source": [
    "df.groupby(by='State').sum().sort_values(by='Time on App',ascending=False)['Time on App'].head(5)"
   ]
  },
  {
   "cell_type": "code",
   "execution_count": 44,
   "id": "46031342",
   "metadata": {},
   "outputs": [
    {
     "data": {
      "text/plain": [
       "Email\n",
       "kyang@diaz.org             15.126994\n",
       "alejandro75@hotmail.com    14.715388\n",
       "george02@hotmail.com       14.426491\n",
       "bhill@pierce-kane.info     14.325655\n",
       "vancealicia@hotmail.com    14.288015\n",
       "Name: Time on App, dtype: float64"
      ]
     },
     "execution_count": 44,
     "metadata": {},
     "output_type": "execute_result"
    }
   ],
   "source": [
    "df.groupby(by='Email').sum().sort_values(by='Time on App',ascending=False)['Time on App'].head(5)"
   ]
  },
  {
   "cell_type": "code",
   "execution_count": 45,
   "id": "2515af6a",
   "metadata": {},
   "outputs": [],
   "source": [
    "#linear Regression"
   ]
  },
  {
   "cell_type": "code",
   "execution_count": 46,
   "id": "bfa91b1d",
   "metadata": {},
   "outputs": [],
   "source": [
    "\n",
    "from sklearn.model_selection import train_test_split\n",
    "from sklearn.linear_model import LinearRegression\n",
    "\n",
    "\n",
    "\n"
   ]
  },
  {
   "cell_type": "code",
   "execution_count": 47,
   "id": "cba4dd90",
   "metadata": {},
   "outputs": [],
   "source": [
    "x = df[['Total Time', 'Length of Membership']]\n",
    "y = df[['Yearly Amount Spent']]\n"
   ]
  },
  {
   "cell_type": "code",
   "execution_count": 48,
   "id": "ef3f4730",
   "metadata": {},
   "outputs": [],
   "source": [
    "x_train,x_test,y_train,y_test=train_test_split(x,y, test_size=0.3, random_state=42)"
   ]
  },
  {
   "cell_type": "code",
   "execution_count": 49,
   "id": "e4ca5348",
   "metadata": {},
   "outputs": [
    {
     "name": "stdout",
     "output_type": "stream",
     "text": [
      "(350, 2)\n"
     ]
    }
   ],
   "source": [
    "print(x_train.shape)"
   ]
  },
  {
   "cell_type": "code",
   "execution_count": 50,
   "id": "8a9f2599",
   "metadata": {},
   "outputs": [],
   "source": [
    "model= LinearRegression()"
   ]
  },
  {
   "cell_type": "code",
   "execution_count": 51,
   "id": "57833463",
   "metadata": {},
   "outputs": [
    {
     "data": {
      "text/html": [
       "<style>#sk-container-id-1 {color: black;}#sk-container-id-1 pre{padding: 0;}#sk-container-id-1 div.sk-toggleable {background-color: white;}#sk-container-id-1 label.sk-toggleable__label {cursor: pointer;display: block;width: 100%;margin-bottom: 0;padding: 0.3em;box-sizing: border-box;text-align: center;}#sk-container-id-1 label.sk-toggleable__label-arrow:before {content: \"▸\";float: left;margin-right: 0.25em;color: #696969;}#sk-container-id-1 label.sk-toggleable__label-arrow:hover:before {color: black;}#sk-container-id-1 div.sk-estimator:hover label.sk-toggleable__label-arrow:before {color: black;}#sk-container-id-1 div.sk-toggleable__content {max-height: 0;max-width: 0;overflow: hidden;text-align: left;background-color: #f0f8ff;}#sk-container-id-1 div.sk-toggleable__content pre {margin: 0.2em;color: black;border-radius: 0.25em;background-color: #f0f8ff;}#sk-container-id-1 input.sk-toggleable__control:checked~div.sk-toggleable__content {max-height: 200px;max-width: 100%;overflow: auto;}#sk-container-id-1 input.sk-toggleable__control:checked~label.sk-toggleable__label-arrow:before {content: \"▾\";}#sk-container-id-1 div.sk-estimator input.sk-toggleable__control:checked~label.sk-toggleable__label {background-color: #d4ebff;}#sk-container-id-1 div.sk-label input.sk-toggleable__control:checked~label.sk-toggleable__label {background-color: #d4ebff;}#sk-container-id-1 input.sk-hidden--visually {border: 0;clip: rect(1px 1px 1px 1px);clip: rect(1px, 1px, 1px, 1px);height: 1px;margin: -1px;overflow: hidden;padding: 0;position: absolute;width: 1px;}#sk-container-id-1 div.sk-estimator {font-family: monospace;background-color: #f0f8ff;border: 1px dotted black;border-radius: 0.25em;box-sizing: border-box;margin-bottom: 0.5em;}#sk-container-id-1 div.sk-estimator:hover {background-color: #d4ebff;}#sk-container-id-1 div.sk-parallel-item::after {content: \"\";width: 100%;border-bottom: 1px solid gray;flex-grow: 1;}#sk-container-id-1 div.sk-label:hover label.sk-toggleable__label {background-color: #d4ebff;}#sk-container-id-1 div.sk-serial::before {content: \"\";position: absolute;border-left: 1px solid gray;box-sizing: border-box;top: 0;bottom: 0;left: 50%;z-index: 0;}#sk-container-id-1 div.sk-serial {display: flex;flex-direction: column;align-items: center;background-color: white;padding-right: 0.2em;padding-left: 0.2em;position: relative;}#sk-container-id-1 div.sk-item {position: relative;z-index: 1;}#sk-container-id-1 div.sk-parallel {display: flex;align-items: stretch;justify-content: center;background-color: white;position: relative;}#sk-container-id-1 div.sk-item::before, #sk-container-id-1 div.sk-parallel-item::before {content: \"\";position: absolute;border-left: 1px solid gray;box-sizing: border-box;top: 0;bottom: 0;left: 50%;z-index: -1;}#sk-container-id-1 div.sk-parallel-item {display: flex;flex-direction: column;z-index: 1;position: relative;background-color: white;}#sk-container-id-1 div.sk-parallel-item:first-child::after {align-self: flex-end;width: 50%;}#sk-container-id-1 div.sk-parallel-item:last-child::after {align-self: flex-start;width: 50%;}#sk-container-id-1 div.sk-parallel-item:only-child::after {width: 0;}#sk-container-id-1 div.sk-dashed-wrapped {border: 1px dashed gray;margin: 0 0.4em 0.5em 0.4em;box-sizing: border-box;padding-bottom: 0.4em;background-color: white;}#sk-container-id-1 div.sk-label label {font-family: monospace;font-weight: bold;display: inline-block;line-height: 1.2em;}#sk-container-id-1 div.sk-label-container {text-align: center;}#sk-container-id-1 div.sk-container {/* jupyter's `normalize.less` sets `[hidden] { display: none; }` but bootstrap.min.css set `[hidden] { display: none !important; }` so we also need the `!important` here to be able to override the default hidden behavior on the sphinx rendered scikit-learn.org. See: https://github.com/scikit-learn/scikit-learn/issues/21755 */display: inline-block !important;position: relative;}#sk-container-id-1 div.sk-text-repr-fallback {display: none;}</style><div id=\"sk-container-id-1\" class=\"sk-top-container\"><div class=\"sk-text-repr-fallback\"><pre>LinearRegression()</pre><b>In a Jupyter environment, please rerun this cell to show the HTML representation or trust the notebook. <br />On GitHub, the HTML representation is unable to render, please try loading this page with nbviewer.org.</b></div><div class=\"sk-container\" hidden><div class=\"sk-item\"><div class=\"sk-estimator sk-toggleable\"><input class=\"sk-toggleable__control sk-hidden--visually\" id=\"sk-estimator-id-1\" type=\"checkbox\" checked><label for=\"sk-estimator-id-1\" class=\"sk-toggleable__label sk-toggleable__label-arrow\">LinearRegression</label><div class=\"sk-toggleable__content\"><pre>LinearRegression()</pre></div></div></div></div></div>"
      ],
      "text/plain": [
       "LinearRegression()"
      ]
     },
     "execution_count": 51,
     "metadata": {},
     "output_type": "execute_result"
    }
   ],
   "source": [
    "model.fit(x_train, y_train)"
   ]
  },
  {
   "cell_type": "code",
   "execution_count": 52,
   "id": "4c52a771",
   "metadata": {},
   "outputs": [],
   "source": [
    "y_pred= model.predict(x_test)"
   ]
  },
  {
   "cell_type": "code",
   "execution_count": 53,
   "id": "52b9da1e",
   "metadata": {},
   "outputs": [
    {
     "name": "stdout",
     "output_type": "stream",
     "text": [
      "[[500.09261527]\n",
      " [535.64339434]\n",
      " [527.37531646]\n",
      " [493.78334967]\n",
      " [493.43655059]\n",
      " [577.55518959]\n",
      " [459.67157855]\n",
      " [524.49475435]\n",
      " [450.24911517]\n",
      " [509.68523586]\n",
      " [476.83425255]\n",
      " [442.6462416 ]\n",
      " [399.8377142 ]\n",
      " [505.52221607]\n",
      " [476.44379465]\n",
      " [414.18579675]\n",
      " [531.54467903]\n",
      " [458.32979795]\n",
      " [444.60934955]\n",
      " [499.69630247]\n",
      " [480.77937673]\n",
      " [483.69120516]\n",
      " [509.64916087]\n",
      " [621.93812659]\n",
      " [438.35951628]\n",
      " [484.99101334]\n",
      " [606.21369618]\n",
      " [510.84866175]\n",
      " [450.31342296]\n",
      " [367.15599707]\n",
      " [518.66708558]\n",
      " [522.97435464]\n",
      " [495.87576401]\n",
      " [317.73983884]\n",
      " [524.54409071]\n",
      " [453.62881703]\n",
      " [514.18838683]\n",
      " [422.71736448]\n",
      " [488.31907546]\n",
      " [492.72536387]\n",
      " [475.55757599]\n",
      " [406.0836575 ]\n",
      " [485.07754013]\n",
      " [511.31546423]\n",
      " [510.95457586]\n",
      " [526.34628749]\n",
      " [596.69474603]\n",
      " [503.97193718]\n",
      " [374.38757281]\n",
      " [476.64547365]\n",
      " [484.17087494]\n",
      " [492.18218348]\n",
      " [633.6702359 ]\n",
      " [620.32698141]\n",
      " [566.23709287]\n",
      " [447.87046546]\n",
      " [394.23042971]\n",
      " [446.40000636]\n",
      " [520.57438237]\n",
      " [558.99010958]\n",
      " [494.75574605]\n",
      " [404.36894894]\n",
      " [522.15434546]\n",
      " [466.56223836]\n",
      " [472.16246528]\n",
      " [540.234784  ]\n",
      " [413.2340974 ]\n",
      " [549.54768314]\n",
      " [441.70299234]\n",
      " [490.76229166]\n",
      " [504.83214823]\n",
      " [564.43151775]\n",
      " [619.66366689]\n",
      " [514.17628011]\n",
      " [428.87824659]\n",
      " [463.06238061]\n",
      " [492.0718358 ]\n",
      " [542.56259688]\n",
      " [440.85435069]\n",
      " [494.09357724]\n",
      " [520.22670499]\n",
      " [575.01139244]\n",
      " [525.1755972 ]\n",
      " [594.43994761]\n",
      " [504.58304453]\n",
      " [458.33525098]\n",
      " [575.92640897]\n",
      " [570.64687758]\n",
      " [388.84982222]\n",
      " [503.40311017]\n",
      " [523.88007156]\n",
      " [514.76444489]\n",
      " [402.50318255]\n",
      " [558.14011919]\n",
      " [424.88806892]\n",
      " [604.26416696]\n",
      " [456.47549216]\n",
      " [510.54311837]\n",
      " [464.55607285]\n",
      " [484.65340038]\n",
      " [500.70063788]\n",
      " [391.24297928]\n",
      " [575.10964946]\n",
      " [493.07881281]\n",
      " [425.79047006]\n",
      " [542.2216563 ]\n",
      " [501.82888166]\n",
      " [466.62907553]\n",
      " [529.45690257]\n",
      " [435.26947478]\n",
      " [408.32635063]\n",
      " [482.50866956]\n",
      " [523.10769506]\n",
      " [456.58836992]\n",
      " [681.68403706]\n",
      " [584.72535179]\n",
      " [586.89733611]\n",
      " [392.51954833]\n",
      " [568.33094157]\n",
      " [555.04619609]\n",
      " [514.60897495]\n",
      " [600.06643383]\n",
      " [393.27532112]\n",
      " [679.79968791]\n",
      " [497.89887489]\n",
      " [474.91879862]\n",
      " [462.21371179]\n",
      " [487.54830697]\n",
      " [527.58318684]\n",
      " [391.34329973]\n",
      " [446.17985067]\n",
      " [449.44263389]\n",
      " [448.79472472]\n",
      " [595.35329862]\n",
      " [513.15000847]\n",
      " [441.01968572]\n",
      " [485.04139546]\n",
      " [667.58589887]\n",
      " [454.65014088]\n",
      " [545.35012917]\n",
      " [510.46258633]\n",
      " [413.8129097 ]\n",
      " [406.32469731]\n",
      " [530.68157705]\n",
      " [507.58104762]\n",
      " [529.56584027]\n",
      " [512.47023348]\n",
      " [535.31578218]\n",
      " [507.36591993]\n",
      " [559.41962614]]\n"
     ]
    }
   ],
   "source": [
    "print(y_pred)"
   ]
  },
  {
   "cell_type": "code",
   "execution_count": 54,
   "id": "3377adce",
   "metadata": {},
   "outputs": [
    {
     "data": {
      "image/png": "[encoded data removed]",
      "text/plain": [
       "<Figure size 640x480 with 1 Axes>"
      ]
     },
     "metadata": {},
     "output_type": "display_data"
    }
   ],
   "source": [
    "from mpl_toolkits.mplot3d import Axes3D\n",
    "\n",
    "fig = plt.figure()\n",
    "ax = fig.add_subplot(111, projection='3d')\n",
    "ax.scatter(df['Total Time'], df['Length of Membership'], y, color='blue')\n",
    "\n",
    "# Optional: Create a mesh grid and surface plot for model prediction if needed\n",
    "ax.set_xlabel('Total Time')\n",
    "ax.set_ylabel('Length of Membership')\n",
    "ax.set_zlabel('Yearly Amount Spent')\n",
    "plt.show()\n"
   ]
  },
  {
   "cell_type": "code",
   "execution_count": 55,
   "id": "5ee21c9e",
   "metadata": {},
   "outputs": [
    {
     "name": "stdout",
     "output_type": "stream",
     "text": [
      "0.7393842180406469\n"
     ]
    }
   ],
   "source": [
    "r2 = r2_score(y_test, y_pred)\n",
    "print(r2)"
   ]
  },
  {
   "cell_type": "code",
   "execution_count": 56,
   "id": "ba7a8600",
   "metadata": {},
   "outputs": [
    {
     "name": "stdout",
     "output_type": "stream",
     "text": [
      "Predicted Yearly Amount Spent for input [[35, 3.5]]: ₹225.13\n"
     ]
    }
   ],
   "source": [
    "\n",
    "try:\n",
    "    new_input = [[35, 3.5]]  # Example: 35 hours total time, 3.5 years membership\n",
    "    predicted_amount = model.predict(new_input)\n",
    "   \n",
    "    print(f\"Predicted Yearly Amount Spent for input {new_input}: ₹{predicted_amount[0][0]:.2f}\")\n",
    "\n",
    "except KeyError as e:\n",
    "    print(f\" Column not found in DataFrame: {e}\")\n",
    "\n",
    "except Exception as e:\n",
    "    print(f\" An error occurred: {e}\")\n"
   ]
  },
  {
   "cell_type": "code",
   "execution_count": 57,
   "id": "2102f534",
   "metadata": {},
   "outputs": [],
   "source": [
    "#logistic regression\n"
   ]
  },
  {
   "cell_type": "code",
   "execution_count": 58,
   "id": "ca1ec3a7",
   "metadata": {},
   "outputs": [],
   "source": [
    "from sklearn.linear_model import LogisticRegression\n",
    "from sklearn.model_selection import train_test_split\n",
    "from sklearn.metrics import accuracy_score"
   ]
  },
  {
   "cell_type": "code",
   "execution_count": 61,
   "id": "76390e2b",
   "metadata": {},
   "outputs": [],
   "source": [
    "# Create a binary target column\n",
    "df['HighSpender'] = df['Yearly Amount Spent'] > 500\n",
    "df['HighSpender'] = df['HighSpender'].astype(int)\n"
   ]
  },
  {
   "cell_type": "code",
   "execution_count": 62,
   "id": "0585fe58",
   "metadata": {},
   "outputs": [
    {
     "name": "stdout",
     "output_type": "stream",
     "text": [
      "Accuracy: 0.92\n",
      "\n",
      "Classification Report:\n",
      "               precision    recall  f1-score   support\n",
      "\n",
      "           0       0.93      0.93      0.93        57\n",
      "           1       0.91      0.91      0.91        43\n",
      "\n",
      "    accuracy                           0.92       100\n",
      "   macro avg       0.92      0.92      0.92       100\n",
      "weighted avg       0.92      0.92      0.92       100\n",
      "\n"
     ]
    }
   ],
   "source": [
    "from sklearn.model_selection import train_test_split\n",
    "from sklearn.linear_model import LogisticRegression\n",
    "from sklearn.metrics import accuracy_score, classification_report\n",
    "\n",
    "# Select features and target\n",
    "X = df[['Avg. Session Length', 'Time on App', 'Time on Website', 'Length of Membership']]\n",
    "y = df['HighSpender']\n",
    "\n",
    "# Train-test split\n",
    "X_train, X_test, y_train, y_test = train_test_split(X, y, test_size=0.2, random_state=42)\n",
    "\n",
    "# Model training\n",
    "model = LogisticRegression()\n",
    "model.fit(X_train, y_train)\n",
    "\n",
    "# Predictions\n",
    "y_pred = model.predict(X_test)\n",
    "\n",
    "# Evaluation\n",
    "print(\"Accuracy:\", accuracy_score(y_test, y_pred))\n",
    "print(\"\\nClassification Report:\\n\", classification_report(y_test, y_pred))\n"
   ]
  },
  {
   "cell_type": "code",
   "execution_count": null,
   "id": "4b018175",
   "metadata": {},
   "outputs": [],
   "source": []
  }
 ],
 "metadata": {
  "kernelspec": {
   "display_name": "Python 3 (ipykernel)",
   "language": "python",
   "name": "python3"
  },
  "language_info": {
   "codemirror_mode": {
    "name": "ipython",
    "version": 3
   },
   "file_extension": ".py",
   "mimetype": "text/x-python",
   "name": "python",
   "nbconvert_exporter": "python",
   "pygments_lexer": "ipython3",
   "version": "3.11.5"
  }
 },
 "nbformat": 4,
 "nbformat_minor": 5
}
